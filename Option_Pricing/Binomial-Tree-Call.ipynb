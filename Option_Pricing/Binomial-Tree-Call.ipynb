{
 "cells": [
  {
   "cell_type": "code",
   "execution_count": 3,
   "metadata": {},
   "outputs": [],
   "source": [
    "import numpy as np\n",
    "import matplotlib.pyplot as plt\n",
    "from scipy.sparse import csc_matrix\n",
    "\n",
    "\n",
    "N=5\n",
    "t=1\n",
    "t=t/(N-1)\n",
    "S0=100\n",
    "K=98\n",
    "r=0.01\n",
    "sigma=0.4\n",
    "u=np.exp(sigma*np.sqrt(t))\n",
    "d=1/u\n",
    "\n",
    "p=(np.exp(-r*t)-d)/(u-d)\n",
    "stock_prices=csc_matrix((N,N))\n",
    "option_prices=csc_matrix((N,N))"
   ]
  },
  {
   "cell_type": "code",
   "execution_count": 4,
   "metadata": {},
   "outputs": [
    {
     "name": "stderr",
     "output_type": "stream",
     "text": [
      "c:\\Users\\adib-\\anaconda3\\lib\\site-packages\\scipy\\sparse\\_index.py:103: SparseEfficiencyWarning: Changing the sparsity structure of a csc_matrix is expensive. lil_matrix is more efficient.\n",
      "  self._set_intXint(row, col, x.flat[0])\n",
      "c:\\Users\\adib-\\anaconda3\\lib\\site-packages\\scipy\\sparse\\_index.py:146: SparseEfficiencyWarning: Changing the sparsity structure of a csc_matrix is expensive. lil_matrix is more efficient.\n",
      "  self._set_arrayXarray(i, j, x)\n"
     ]
    },
    {
     "name": "stdout",
     "output_type": "stream",
     "text": [
      "  (0, 0)\t15.651893735074287\n",
      "  (1, 0)\t5.169554201231045\n",
      "  (2, 0)\t0.39224411893132055\n",
      "  (3, 0)\t0.0\n",
      "  (4, 0)\t0.0\n",
      "  (1, 1)\t28.868523201533833\n",
      "  (2, 1)\t11.18194072866753\n",
      "  (3, 1)\t0.8857134061662616\n",
      "  (4, 1)\t0.0\n",
      "  (2, 2)\t51.182469764127035\n",
      "  (3, 2)\t24.14027581601698\n",
      "  (4, 2)\t2.0\n",
      "  (3, 3)\t84.2118800390509\n",
      "  (4, 3)\t51.182469764127035\n",
      "  (4, 4)\t124.55409284924676\n"
     ]
    },
    {
     "data": {
      "image/png": "[encoded data removed]",
      "text/plain": [
       "<Figure size 640x480 with 1 Axes>"
      ]
     },
     "metadata": {},
     "output_type": "display_data"
    }
   ],
   "source": [
    "stock_prices[0,0]=S0\n",
    "\n",
    "for i in range (1,N):\n",
    "    M=i+1\n",
    "    stock_prices[i,0]=d*stock_prices[i-1,0]\n",
    "    for j in range (1,M):\n",
    "        stock_prices[i,j]=u*stock_prices[i-1,j-1]\n",
    "\n",
    "expiration=stock_prices[-1,:].toarray()-K\n",
    "expiration=np.where(expiration>=0,expiration,0)\n",
    "\n",
    "\n",
    "option_prices[-1,:]=expiration\n",
    "\n",
    "\n",
    "for i in range(N - 2,-1,-1):\n",
    "    for j in range(i+1):\n",
    "        option_prices[i,j]=np.exp(-r * t) * ((1-p) * option_prices[i+1,j] + p * option_prices[i+1,j+1])\n",
    "        if stock_prices[i,j]-K>option_prices[i,j]:\n",
    "            option_prices[i,j]=stock_prices[i,j]-K\n",
    "        \n",
    "\n",
    "\n",
    "\n",
    "\n",
    "plt.spy(option_prices)\n",
    "print(option_prices)"
   ]
  },
  {
   "cell_type": "code",
   "execution_count": null,
   "metadata": {},
   "outputs": [],
   "source": []
  }
 ],
 "metadata": {
  "kernelspec": {
   "display_name": "base",
   "language": "python",
   "name": "python3"
  },
  "language_info": {
   "codemirror_mode": {
    "name": "ipython",
    "version": 3
   },
   "file_extension": ".py",
   "mimetype": "text/x-python",
   "name": "python",
   "nbconvert_exporter": "python",
   "pygments_lexer": "ipython3",
   "version": "3.9.13"
  },
  "orig_nbformat": 4,
  "vscode": {
   "interpreter": {
    "hash": "4f77cdfaf4507c9d7563b1dafbbefd1211a5ec1bc40dd9ff43d298279ac97956"
   }
  }
 },
 "nbformat": 4,
 "nbformat_minor": 2
}
