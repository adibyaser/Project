{
 "cells": [
  {
   "cell_type": "code",
   "execution_count": 1,
   "metadata": {},
   "outputs": [
    {
     "name": "stdout",
     "output_type": "stream",
     "text": [
      "7.01766531898455\n"
     ]
    }
   ],
   "source": [
    "##Monte Carlo\n",
    "T=0.25\n",
    "S0=100\n",
    "K=95\n",
    "r=0.03\n",
    "div=0.02\n",
    "sigma=0.2\n",
    "\n",
    "\n",
    "import numpy as np\n",
    "np.random.seed(1)\n",
    "\n",
    "iterations=1000000 # 1 million iterations\n",
    "\n",
    "z=np.random.standard_normal(iterations)\n",
    "ST=S0*np.exp((r-0.5 * sigma**2-div)*T + sigma * np.sqrt(T)*z) #Euler Equation modified with dividend yield\n",
    "payoff=np.maximum(ST-K,0) ##Payoff at expiration\n",
    "Call_price=np.exp (-r*T) * np.sum(payoff)/iterations\n",
    "\n",
    "print(Call_price)"
   ]
  },
  {
   "cell_type": "code",
   "execution_count": null,
   "metadata": {},
   "outputs": [],
   "source": []
  }
 ],
 "metadata": {
  "kernelspec": {
   "display_name": "base",
   "language": "python",
   "name": "python3"
  },
  "language_info": {
   "codemirror_mode": {
    "name": "ipython",
    "version": 3
   },
   "file_extension": ".py",
   "mimetype": "text/x-python",
   "name": "python",
   "nbconvert_exporter": "python",
   "pygments_lexer": "ipython3",
   "version": "3.9.13"
  },
  "orig_nbformat": 4,
  "vscode": {
   "interpreter": {
    "hash": "4f77cdfaf4507c9d7563b1dafbbefd1211a5ec1bc40dd9ff43d298279ac97956"
   }
  }
 },
 "nbformat": 4,
 "nbformat_minor": 2
}
