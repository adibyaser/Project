{
 "cells": [
  {
   "cell_type": "code",
   "execution_count": 1,
   "metadata": {},
   "outputs": [
    {
     "name": "stdout",
     "output_type": "stream",
     "text": [
      "6.918695403001518\n"
     ]
    }
   ],
   "source": [
    "##Binomial Tree- Call\n",
    "\n",
    "import numpy as np\n",
    "N=12\n",
    "T=0.25\n",
    "dt=T/N\n",
    "S0=100\n",
    "K=95\n",
    "r=0.03\n",
    "div=0.02\n",
    "sigma=0.2\n",
    "u = np.exp(sigma * np.sqrt(dt))\n",
    "d = 1/u\n",
    "p = (np.exp((r-div)*dt)-d)/ (u - d)\n",
    "\n",
    "\n",
    "stock_prices = np.zeros((N, N))\n",
    "call_prices = np.zeros((N, N))\n",
    "\n",
    "stock_prices[0,0] = S0\n",
    "\n",
    "\n",
    "for i in range(1, N):\n",
    "    M = i + 1\n",
    "    stock_prices[i, 0] = d * stock_prices[i-1, 0]\n",
    "    for j in range(1, M ):\n",
    "        stock_prices[i, j] = u * stock_prices[i - 1, j - 1]\n",
    "\n",
    "expiration = stock_prices[-1,:] - K\n",
    "expiration = np.where(expiration >= 0, expiration, 0)\n",
    "\n",
    "\n",
    "call_prices[-1,:] =  expiration\n",
    "\n",
    "\n",
    "for i in range(N - 2,-1,-1):\n",
    "    for j in range(i + 1):\n",
    "        call_prices[i,j] = np.exp(-r*dt) * ((1-p) * call_prices[i+1,j] + p * call_prices[i+1,j+1])\n",
    "\n",
    "\n",
    "print(call_prices[0,0])"
   ]
  },
  {
   "cell_type": "code",
   "execution_count": 2,
   "metadata": {},
   "outputs": [],
   "source": [
    "from scipy.stats import norm"
   ]
  },
  {
   "cell_type": "code",
   "execution_count": 3,
   "metadata": {},
   "outputs": [],
   "source": [
    "##Black Scholes -Gaussian\n",
    "\n",
    "def BlackScholes(r,S0,K,T,sigma,div):\n",
    "    d1=(np.log(S0/K) + (r+sigma**2/2)*T)/(sigma*np.sqrt(T))\n",
    "    d2=d1-sigma*np.sqrt(T)\n",
    "\n",
    "    price=(S0*np.exp(-div*T))*norm.cdf(d1,0,1) - K*np.exp(-r*T)*norm.cdf(d2,0,1)\n",
    "\n",
    "    return price\n",
    "    "
   ]
  },
  {
   "cell_type": "code",
   "execution_count": 4,
   "metadata": {},
   "outputs": [
    {
     "data": {
      "text/plain": [
       "7.0107551333798455"
      ]
     },
     "execution_count": 4,
     "metadata": {},
     "output_type": "execute_result"
    }
   ],
   "source": [
    "BlackScholes(0.03,100,95,0.25,0.2,0.02)"
   ]
  },
  {
   "cell_type": "code",
   "execution_count": 5,
   "metadata": {},
   "outputs": [
    {
     "name": "stdout",
     "output_type": "stream",
     "text": [
      "6.918695403001518\n"
     ]
    }
   ],
   "source": [
    "##American Call Binomial\n",
    "\n",
    "import numpy as np\n",
    "import matplotlib.pyplot as plt\n",
    "\n",
    "\n",
    "N=12\n",
    "t=0.25\n",
    "dt=t/N\n",
    "S0=100\n",
    "K=95\n",
    "r=0.03\n",
    "div=0.02\n",
    "sigma=0.2\n",
    "u=np.exp(sigma*np.sqrt(dt))\n",
    "d=1/u\n",
    "\n",
    "p=(np.exp((r-div)*dt)-d)/(u-d)\n",
    "stock_prices=np.zeros((N,N))\n",
    "option_prices=np.zeros((N,N))\n",
    "\n",
    "stock_prices[0,0]=S0\n",
    "\n",
    "for i in range (1,N):\n",
    "    M=i+1\n",
    "    stock_prices[i,0]=d*stock_prices[i-1,0]\n",
    "    for j in range (1,M):\n",
    "        stock_prices[i,j]=u*stock_prices[i-1,j-1]\n",
    "\n",
    "expiration=stock_prices[-1,:]-K\n",
    "expiration=np.where(expiration>=0,expiration,0)\n",
    "\n",
    "\n",
    "option_prices[-1,:]=expiration\n",
    "\n",
    "\n",
    "for i in range(N - 2,-1,-1):\n",
    "    for j in range(i+1):\n",
    "        option_prices[i,j]=np.exp(-r*dt) * ((1-p) * option_prices[i+1,j] + p * option_prices[i+1,j+1])\n",
    "        if stock_prices[i,j]-K>option_prices[i,j]:\n",
    "            option_prices[i,j]=stock_prices[i,j]-K\n",
    "        \n",
    "\n",
    "print(option_prices[0,0])"
   ]
  },
  {
   "cell_type": "code",
   "execution_count": 6,
   "metadata": {},
   "outputs": [],
   "source": [
    "##Finite Difference\n",
    "\n",
    "def fin_diff(S,K,T,sigma,r,q,N,k):\n",
    "    dt = T/N;   \n",
    "    dx = sigma*np.sqrt(3*dt)\n",
    "    nu = r - q - 0.5*sigma**2\n",
    "    pu = 0.5*dt*((sigma/dx)**2 + nu/dx)\n",
    "    pm = 1.0 - dt*(sigma/dx)**2 - r*dt  \n",
    "    pd = 0.5*dt*((sigma/dx)**2 - nu/dx)\n",
    "    grid = np.zeros((N+1,2*k+1))\n",
    "    \n",
    "\n",
    "    St = [S*np.exp(-k*dx)]\n",
    "    for j in range(1, 2*k+1):\n",
    "        St.append(St[j-1]*np.exp(dx))\n",
    "    \n",
    "    \n",
    "    for j in range(2*k+1):\n",
    "            grid[N,j] = max(0, St[j] - K)\n",
    "        \n",
    "    \n",
    "    \n",
    "    for i in range(N-1, -1, -1):\n",
    "        for j in range(1, 2*k):\n",
    "            grid[i,j] =pu*grid[i+1,j+1] + pm*grid[i+1,j] + pd*grid[i+1,j-1]\n",
    "    \n",
    "     \n",
    "        grid[i,0] = grid[i,1]\n",
    "        grid[i,2*k] = grid[i,2*k-1] + (St[2*k]-St[2*k-1])\n",
    "    \n",
    "    return grid[0,k]"
   ]
  },
  {
   "cell_type": "code",
   "execution_count": 7,
   "metadata": {},
   "outputs": [
    {
     "data": {
      "text/plain": [
       "7.018645027227497"
      ]
     },
     "execution_count": 7,
     "metadata": {},
     "output_type": "execute_result"
    }
   ],
   "source": [
    "fin_diff(100,95,0.25,0.2,0.03,0.02,8,3)"
   ]
  },
  {
   "cell_type": "code",
   "execution_count": null,
   "metadata": {},
   "outputs": [],
   "source": []
  }
 ],
 "metadata": {
  "kernelspec": {
   "display_name": "base",
   "language": "python",
   "name": "python3"
  },
  "language_info": {
   "codemirror_mode": {
    "name": "ipython",
    "version": 3
   },
   "file_extension": ".py",
   "mimetype": "text/x-python",
   "name": "python",
   "nbconvert_exporter": "python",
   "pygments_lexer": "ipython3",
   "version": "3.9.13"
  },
  "orig_nbformat": 4,
  "vscode": {
   "interpreter": {
    "hash": "4f77cdfaf4507c9d7563b1dafbbefd1211a5ec1bc40dd9ff43d298279ac97956"
   }
  }
 },
 "nbformat": 4,
 "nbformat_minor": 2
}
