{
 "cells": [
  {
   "cell_type": "code",
   "execution_count": 1,
   "metadata": {},
   "outputs": [],
   "source": [
    "import pandas as pd\n",
    "import numpy as np\n"
   ]
  },
  {
   "cell_type": "code",
   "execution_count": 2,
   "metadata": {},
   "outputs": [
    {
     "data": {
      "text/html": [
       "<div>\n",
       "<style scoped>\n",
       "    .dataframe tbody tr th:only-of-type {\n",
       "        vertical-align: middle;\n",
       "    }\n",
       "\n",
       "    .dataframe tbody tr th {\n",
       "        vertical-align: top;\n",
       "    }\n",
       "\n",
       "    .dataframe thead th {\n",
       "        text-align: right;\n",
       "    }\n",
       "</style>\n",
       "<table border=\"1\" class=\"dataframe\">\n",
       "  <thead>\n",
       "    <tr style=\"text-align: right;\">\n",
       "      <th></th>\n",
       "      <th>0</th>\n",
       "      <th>1</th>\n",
       "      <th>2</th>\n",
       "      <th>3</th>\n",
       "      <th>4</th>\n",
       "      <th>5</th>\n",
       "      <th>6</th>\n",
       "      <th>7</th>\n",
       "      <th>8</th>\n",
       "      <th>9</th>\n",
       "      <th>10</th>\n",
       "      <th>11</th>\n",
       "      <th>12</th>\n",
       "      <th>13</th>\n",
       "    </tr>\n",
       "  </thead>\n",
       "  <tbody>\n",
       "    <tr>\n",
       "      <th>0</th>\n",
       "      <td>0.00632</td>\n",
       "      <td>18.0</td>\n",
       "      <td>2.31</td>\n",
       "      <td>0</td>\n",
       "      <td>0.538</td>\n",
       "      <td>6.575</td>\n",
       "      <td>65.2</td>\n",
       "      <td>4.0900</td>\n",
       "      <td>1</td>\n",
       "      <td>296.0</td>\n",
       "      <td>15.3</td>\n",
       "      <td>396.90</td>\n",
       "      <td>4.98</td>\n",
       "      <td>24.0</td>\n",
       "    </tr>\n",
       "    <tr>\n",
       "      <th>1</th>\n",
       "      <td>0.02731</td>\n",
       "      <td>0.0</td>\n",
       "      <td>7.07</td>\n",
       "      <td>0</td>\n",
       "      <td>0.469</td>\n",
       "      <td>6.421</td>\n",
       "      <td>78.9</td>\n",
       "      <td>4.9671</td>\n",
       "      <td>2</td>\n",
       "      <td>242.0</td>\n",
       "      <td>17.8</td>\n",
       "      <td>396.90</td>\n",
       "      <td>9.14</td>\n",
       "      <td>21.6</td>\n",
       "    </tr>\n",
       "    <tr>\n",
       "      <th>2</th>\n",
       "      <td>0.02729</td>\n",
       "      <td>0.0</td>\n",
       "      <td>7.07</td>\n",
       "      <td>0</td>\n",
       "      <td>0.469</td>\n",
       "      <td>7.185</td>\n",
       "      <td>61.1</td>\n",
       "      <td>4.9671</td>\n",
       "      <td>2</td>\n",
       "      <td>242.0</td>\n",
       "      <td>17.8</td>\n",
       "      <td>392.83</td>\n",
       "      <td>4.03</td>\n",
       "      <td>34.7</td>\n",
       "    </tr>\n",
       "    <tr>\n",
       "      <th>3</th>\n",
       "      <td>0.03237</td>\n",
       "      <td>0.0</td>\n",
       "      <td>2.18</td>\n",
       "      <td>0</td>\n",
       "      <td>0.458</td>\n",
       "      <td>6.998</td>\n",
       "      <td>45.8</td>\n",
       "      <td>6.0622</td>\n",
       "      <td>3</td>\n",
       "      <td>222.0</td>\n",
       "      <td>18.7</td>\n",
       "      <td>394.63</td>\n",
       "      <td>2.94</td>\n",
       "      <td>33.4</td>\n",
       "    </tr>\n",
       "    <tr>\n",
       "      <th>4</th>\n",
       "      <td>0.06905</td>\n",
       "      <td>0.0</td>\n",
       "      <td>2.18</td>\n",
       "      <td>0</td>\n",
       "      <td>0.458</td>\n",
       "      <td>7.147</td>\n",
       "      <td>54.2</td>\n",
       "      <td>6.0622</td>\n",
       "      <td>3</td>\n",
       "      <td>222.0</td>\n",
       "      <td>18.7</td>\n",
       "      <td>396.90</td>\n",
       "      <td>5.33</td>\n",
       "      <td>36.2</td>\n",
       "    </tr>\n",
       "    <tr>\n",
       "      <th>...</th>\n",
       "      <td>...</td>\n",
       "      <td>...</td>\n",
       "      <td>...</td>\n",
       "      <td>...</td>\n",
       "      <td>...</td>\n",
       "      <td>...</td>\n",
       "      <td>...</td>\n",
       "      <td>...</td>\n",
       "      <td>...</td>\n",
       "      <td>...</td>\n",
       "      <td>...</td>\n",
       "      <td>...</td>\n",
       "      <td>...</td>\n",
       "      <td>...</td>\n",
       "    </tr>\n",
       "    <tr>\n",
       "      <th>501</th>\n",
       "      <td>0.06263</td>\n",
       "      <td>0.0</td>\n",
       "      <td>11.93</td>\n",
       "      <td>0</td>\n",
       "      <td>0.573</td>\n",
       "      <td>6.593</td>\n",
       "      <td>69.1</td>\n",
       "      <td>2.4786</td>\n",
       "      <td>1</td>\n",
       "      <td>273.0</td>\n",
       "      <td>21.0</td>\n",
       "      <td>391.99</td>\n",
       "      <td>9.67</td>\n",
       "      <td>22.4</td>\n",
       "    </tr>\n",
       "    <tr>\n",
       "      <th>502</th>\n",
       "      <td>0.04527</td>\n",
       "      <td>0.0</td>\n",
       "      <td>11.93</td>\n",
       "      <td>0</td>\n",
       "      <td>0.573</td>\n",
       "      <td>6.120</td>\n",
       "      <td>76.7</td>\n",
       "      <td>2.2875</td>\n",
       "      <td>1</td>\n",
       "      <td>273.0</td>\n",
       "      <td>21.0</td>\n",
       "      <td>396.90</td>\n",
       "      <td>9.08</td>\n",
       "      <td>20.6</td>\n",
       "    </tr>\n",
       "    <tr>\n",
       "      <th>503</th>\n",
       "      <td>0.06076</td>\n",
       "      <td>0.0</td>\n",
       "      <td>11.93</td>\n",
       "      <td>0</td>\n",
       "      <td>0.573</td>\n",
       "      <td>6.976</td>\n",
       "      <td>91.0</td>\n",
       "      <td>2.1675</td>\n",
       "      <td>1</td>\n",
       "      <td>273.0</td>\n",
       "      <td>21.0</td>\n",
       "      <td>396.90</td>\n",
       "      <td>5.64</td>\n",
       "      <td>23.9</td>\n",
       "    </tr>\n",
       "    <tr>\n",
       "      <th>504</th>\n",
       "      <td>0.10959</td>\n",
       "      <td>0.0</td>\n",
       "      <td>11.93</td>\n",
       "      <td>0</td>\n",
       "      <td>0.573</td>\n",
       "      <td>6.794</td>\n",
       "      <td>89.3</td>\n",
       "      <td>2.3889</td>\n",
       "      <td>1</td>\n",
       "      <td>273.0</td>\n",
       "      <td>21.0</td>\n",
       "      <td>393.45</td>\n",
       "      <td>6.48</td>\n",
       "      <td>22.0</td>\n",
       "    </tr>\n",
       "    <tr>\n",
       "      <th>505</th>\n",
       "      <td>0.04741</td>\n",
       "      <td>0.0</td>\n",
       "      <td>11.93</td>\n",
       "      <td>0</td>\n",
       "      <td>0.573</td>\n",
       "      <td>6.030</td>\n",
       "      <td>80.8</td>\n",
       "      <td>2.5050</td>\n",
       "      <td>1</td>\n",
       "      <td>273.0</td>\n",
       "      <td>21.0</td>\n",
       "      <td>396.90</td>\n",
       "      <td>7.88</td>\n",
       "      <td>11.9</td>\n",
       "    </tr>\n",
       "  </tbody>\n",
       "</table>\n",
       "<p>506 rows × 14 columns</p>\n",
       "</div>"
      ],
      "text/plain": [
       "          0     1      2   3      4      5     6       7   8      9     10  \\\n",
       "0    0.00632  18.0   2.31   0  0.538  6.575  65.2  4.0900   1  296.0  15.3   \n",
       "1    0.02731   0.0   7.07   0  0.469  6.421  78.9  4.9671   2  242.0  17.8   \n",
       "2    0.02729   0.0   7.07   0  0.469  7.185  61.1  4.9671   2  242.0  17.8   \n",
       "3    0.03237   0.0   2.18   0  0.458  6.998  45.8  6.0622   3  222.0  18.7   \n",
       "4    0.06905   0.0   2.18   0  0.458  7.147  54.2  6.0622   3  222.0  18.7   \n",
       "..       ...   ...    ...  ..    ...    ...   ...     ...  ..    ...   ...   \n",
       "501  0.06263   0.0  11.93   0  0.573  6.593  69.1  2.4786   1  273.0  21.0   \n",
       "502  0.04527   0.0  11.93   0  0.573  6.120  76.7  2.2875   1  273.0  21.0   \n",
       "503  0.06076   0.0  11.93   0  0.573  6.976  91.0  2.1675   1  273.0  21.0   \n",
       "504  0.10959   0.0  11.93   0  0.573  6.794  89.3  2.3889   1  273.0  21.0   \n",
       "505  0.04741   0.0  11.93   0  0.573  6.030  80.8  2.5050   1  273.0  21.0   \n",
       "\n",
       "         11    12    13  \n",
       "0    396.90  4.98  24.0  \n",
       "1    396.90  9.14  21.6  \n",
       "2    392.83  4.03  34.7  \n",
       "3    394.63  2.94  33.4  \n",
       "4    396.90  5.33  36.2  \n",
       "..      ...   ...   ...  \n",
       "501  391.99  9.67  22.4  \n",
       "502  396.90  9.08  20.6  \n",
       "503  396.90  5.64  23.9  \n",
       "504  393.45  6.48  22.0  \n",
       "505  396.90  7.88  11.9  \n",
       "\n",
       "[506 rows x 14 columns]"
      ]
     },
     "execution_count": 2,
     "metadata": {},
     "output_type": "execute_result"
    }
   ],
   "source": [
    "df=pd.read_csv(\"C:/Users/adib-/Downloads/housing_data.txt\",delim_whitespace=True, header=None)\n",
    "df"
   ]
  },
  {
   "cell_type": "code",
   "execution_count": 3,
   "metadata": {},
   "outputs": [
    {
     "data": {
      "text/plain": [
       "Int64Index([0, 1, 2, 3, 4, 5, 6, 7, 8, 9, 10, 11, 12, 13], dtype='int64')"
      ]
     },
     "execution_count": 3,
     "metadata": {},
     "output_type": "execute_result"
    }
   ],
   "source": [
    "df.columns"
   ]
  },
  {
   "cell_type": "code",
   "execution_count": 7,
   "metadata": {},
   "outputs": [],
   "source": [
    "df.columns=['CRIM','ZN','INDUS','CHAS','NOX','RM','AGE','DIS','RAD','TAX','PTRATIO','B','LSTAT','MEDV']"
   ]
  },
  {
   "cell_type": "code",
   "execution_count": 8,
   "metadata": {},
   "outputs": [
    {
     "data": {
      "text/html": [
       "<div>\n",
       "<style scoped>\n",
       "    .dataframe tbody tr th:only-of-type {\n",
       "        vertical-align: middle;\n",
       "    }\n",
       "\n",
       "    .dataframe tbody tr th {\n",
       "        vertical-align: top;\n",
       "    }\n",
       "\n",
       "    .dataframe thead th {\n",
       "        text-align: right;\n",
       "    }\n",
       "</style>\n",
       "<table border=\"1\" class=\"dataframe\">\n",
       "  <thead>\n",
       "    <tr style=\"text-align: right;\">\n",
       "      <th></th>\n",
       "      <th>CRIM</th>\n",
       "      <th>ZN</th>\n",
       "      <th>INDUS</th>\n",
       "      <th>CHAS</th>\n",
       "      <th>NOX</th>\n",
       "      <th>RM</th>\n",
       "      <th>AGE</th>\n",
       "      <th>DIS</th>\n",
       "      <th>RAD</th>\n",
       "      <th>TAX</th>\n",
       "      <th>PTRATIO</th>\n",
       "      <th>B</th>\n",
       "      <th>LSTAT</th>\n",
       "      <th>MEDV</th>\n",
       "    </tr>\n",
       "  </thead>\n",
       "  <tbody>\n",
       "    <tr>\n",
       "      <th>count</th>\n",
       "      <td>506.000000</td>\n",
       "      <td>506.000000</td>\n",
       "      <td>506.000000</td>\n",
       "      <td>506.000000</td>\n",
       "      <td>506.000000</td>\n",
       "      <td>506.000000</td>\n",
       "      <td>506.000000</td>\n",
       "      <td>506.000000</td>\n",
       "      <td>506.000000</td>\n",
       "      <td>506.000000</td>\n",
       "      <td>506.000000</td>\n",
       "      <td>506.000000</td>\n",
       "      <td>506.000000</td>\n",
       "      <td>506.000000</td>\n",
       "    </tr>\n",
       "    <tr>\n",
       "      <th>mean</th>\n",
       "      <td>3.613524</td>\n",
       "      <td>11.363636</td>\n",
       "      <td>11.136779</td>\n",
       "      <td>0.069170</td>\n",
       "      <td>0.554695</td>\n",
       "      <td>6.284634</td>\n",
       "      <td>68.574901</td>\n",
       "      <td>3.795043</td>\n",
       "      <td>9.549407</td>\n",
       "      <td>408.237154</td>\n",
       "      <td>18.455534</td>\n",
       "      <td>356.674032</td>\n",
       "      <td>12.653063</td>\n",
       "      <td>22.532806</td>\n",
       "    </tr>\n",
       "    <tr>\n",
       "      <th>std</th>\n",
       "      <td>8.601545</td>\n",
       "      <td>23.322453</td>\n",
       "      <td>6.860353</td>\n",
       "      <td>0.253994</td>\n",
       "      <td>0.115878</td>\n",
       "      <td>0.702617</td>\n",
       "      <td>28.148861</td>\n",
       "      <td>2.105710</td>\n",
       "      <td>8.707259</td>\n",
       "      <td>168.537116</td>\n",
       "      <td>2.164946</td>\n",
       "      <td>91.294864</td>\n",
       "      <td>7.141062</td>\n",
       "      <td>9.197104</td>\n",
       "    </tr>\n",
       "    <tr>\n",
       "      <th>min</th>\n",
       "      <td>0.006320</td>\n",
       "      <td>0.000000</td>\n",
       "      <td>0.460000</td>\n",
       "      <td>0.000000</td>\n",
       "      <td>0.385000</td>\n",
       "      <td>3.561000</td>\n",
       "      <td>2.900000</td>\n",
       "      <td>1.129600</td>\n",
       "      <td>1.000000</td>\n",
       "      <td>187.000000</td>\n",
       "      <td>12.600000</td>\n",
       "      <td>0.320000</td>\n",
       "      <td>1.730000</td>\n",
       "      <td>5.000000</td>\n",
       "    </tr>\n",
       "    <tr>\n",
       "      <th>25%</th>\n",
       "      <td>0.082045</td>\n",
       "      <td>0.000000</td>\n",
       "      <td>5.190000</td>\n",
       "      <td>0.000000</td>\n",
       "      <td>0.449000</td>\n",
       "      <td>5.885500</td>\n",
       "      <td>45.025000</td>\n",
       "      <td>2.100175</td>\n",
       "      <td>4.000000</td>\n",
       "      <td>279.000000</td>\n",
       "      <td>17.400000</td>\n",
       "      <td>375.377500</td>\n",
       "      <td>6.950000</td>\n",
       "      <td>17.025000</td>\n",
       "    </tr>\n",
       "    <tr>\n",
       "      <th>50%</th>\n",
       "      <td>0.256510</td>\n",
       "      <td>0.000000</td>\n",
       "      <td>9.690000</td>\n",
       "      <td>0.000000</td>\n",
       "      <td>0.538000</td>\n",
       "      <td>6.208500</td>\n",
       "      <td>77.500000</td>\n",
       "      <td>3.207450</td>\n",
       "      <td>5.000000</td>\n",
       "      <td>330.000000</td>\n",
       "      <td>19.050000</td>\n",
       "      <td>391.440000</td>\n",
       "      <td>11.360000</td>\n",
       "      <td>21.200000</td>\n",
       "    </tr>\n",
       "    <tr>\n",
       "      <th>75%</th>\n",
       "      <td>3.677083</td>\n",
       "      <td>12.500000</td>\n",
       "      <td>18.100000</td>\n",
       "      <td>0.000000</td>\n",
       "      <td>0.624000</td>\n",
       "      <td>6.623500</td>\n",
       "      <td>94.075000</td>\n",
       "      <td>5.188425</td>\n",
       "      <td>24.000000</td>\n",
       "      <td>666.000000</td>\n",
       "      <td>20.200000</td>\n",
       "      <td>396.225000</td>\n",
       "      <td>16.955000</td>\n",
       "      <td>25.000000</td>\n",
       "    </tr>\n",
       "    <tr>\n",
       "      <th>max</th>\n",
       "      <td>88.976200</td>\n",
       "      <td>100.000000</td>\n",
       "      <td>27.740000</td>\n",
       "      <td>1.000000</td>\n",
       "      <td>0.871000</td>\n",
       "      <td>8.780000</td>\n",
       "      <td>100.000000</td>\n",
       "      <td>12.126500</td>\n",
       "      <td>24.000000</td>\n",
       "      <td>711.000000</td>\n",
       "      <td>22.000000</td>\n",
       "      <td>396.900000</td>\n",
       "      <td>37.970000</td>\n",
       "      <td>50.000000</td>\n",
       "    </tr>\n",
       "  </tbody>\n",
       "</table>\n",
       "</div>"
      ],
      "text/plain": [
       "             CRIM          ZN       INDUS        CHAS         NOX          RM  \\\n",
       "count  506.000000  506.000000  506.000000  506.000000  506.000000  506.000000   \n",
       "mean     3.613524   11.363636   11.136779    0.069170    0.554695    6.284634   \n",
       "std      8.601545   23.322453    6.860353    0.253994    0.115878    0.702617   \n",
       "min      0.006320    0.000000    0.460000    0.000000    0.385000    3.561000   \n",
       "25%      0.082045    0.000000    5.190000    0.000000    0.449000    5.885500   \n",
       "50%      0.256510    0.000000    9.690000    0.000000    0.538000    6.208500   \n",
       "75%      3.677083   12.500000   18.100000    0.000000    0.624000    6.623500   \n",
       "max     88.976200  100.000000   27.740000    1.000000    0.871000    8.780000   \n",
       "\n",
       "              AGE         DIS         RAD         TAX     PTRATIO           B  \\\n",
       "count  506.000000  506.000000  506.000000  506.000000  506.000000  506.000000   \n",
       "mean    68.574901    3.795043    9.549407  408.237154   18.455534  356.674032   \n",
       "std     28.148861    2.105710    8.707259  168.537116    2.164946   91.294864   \n",
       "min      2.900000    1.129600    1.000000  187.000000   12.600000    0.320000   \n",
       "25%     45.025000    2.100175    4.000000  279.000000   17.400000  375.377500   \n",
       "50%     77.500000    3.207450    5.000000  330.000000   19.050000  391.440000   \n",
       "75%     94.075000    5.188425   24.000000  666.000000   20.200000  396.225000   \n",
       "max    100.000000   12.126500   24.000000  711.000000   22.000000  396.900000   \n",
       "\n",
       "            LSTAT        MEDV  \n",
       "count  506.000000  506.000000  \n",
       "mean    12.653063   22.532806  \n",
       "std      7.141062    9.197104  \n",
       "min      1.730000    5.000000  \n",
       "25%      6.950000   17.025000  \n",
       "50%     11.360000   21.200000  \n",
       "75%     16.955000   25.000000  \n",
       "max     37.970000   50.000000  "
      ]
     },
     "execution_count": 8,
     "metadata": {},
     "output_type": "execute_result"
    }
   ],
   "source": [
    "df.describe()"
   ]
  },
  {
   "cell_type": "code",
   "execution_count": 8,
   "metadata": {},
   "outputs": [
    {
     "data": {
      "text/plain": [
       "CRIM       0\n",
       "ZN         0\n",
       "INDUS      0\n",
       "CHAS       0\n",
       "NOX        0\n",
       "RM         0\n",
       "AGE        0\n",
       "DIS        0\n",
       "RAD        0\n",
       "TAX        0\n",
       "PTRATIO    0\n",
       "B          0\n",
       "LSTAT      0\n",
       "MEDV       0\n",
       "dtype: int64"
      ]
     },
     "execution_count": 8,
     "metadata": {},
     "output_type": "execute_result"
    }
   ],
   "source": [
    "df.isna().sum() #No Null values"
   ]
  },
  {
   "cell_type": "code",
   "execution_count": 18,
   "metadata": {},
   "outputs": [
    {
     "data": {
      "text/plain": [
       "array([0, 1], dtype=int64)"
      ]
     },
     "execution_count": 18,
     "metadata": {},
     "output_type": "execute_result"
    }
   ],
   "source": [
    "# Only these two variable are categorical in nature\n",
    " df['CHAS'].unique()\n",
    "# df['RAD'].unique()\n"
   ]
  },
  {
   "cell_type": "code",
   "execution_count": 10,
   "metadata": {},
   "outputs": [],
   "source": [
    "import seaborn as sns\n",
    "import matplotlib.pyplot as plt"
   ]
  },
  {
   "cell_type": "code",
   "execution_count": 11,
   "metadata": {},
   "outputs": [
    {
     "data": {
      "image/png": "[encoded data removed]",
      "text/plain": [
       "<Figure size 432x288 with 1 Axes>"
      ]
     },
     "metadata": {
      "needs_background": "light"
     },
     "output_type": "display_data"
    }
   ],
   "source": [
    "sns.boxplot(x=df['PTRATIO'],y=df['MEDV'],data=df)\n",
    "# sns.boxplot(x=df['TAX'],y=df['MEDV'],data=df)\n",
    "# sns.boxplot(x=df['RAD'],y=df['MEDV'],data=df)\n",
    "# sns.boxplot(x=df['AGE'],y=df['MEDV'],data=df)\n",
    "plt.show()"
   ]
  },
  {
   "cell_type": "code",
   "execution_count": 12,
   "metadata": {},
   "outputs": [
    {
     "data": {
      "image/png": "[encoded data removed]",
      "text/plain": [
       "<Figure size 432x432 with 3 Axes>"
      ]
     },
     "metadata": {
      "needs_background": "light"
     },
     "output_type": "display_data"
    }
   ],
   "source": [
    "# Two way distribution & concentration of our dependent variable & TAX variable (X)\n",
    "sns.jointplot(x='TAX',y='MEDV',data=df,kind='kde',color='m')\n",
    "plt.show()"
   ]
  },
  {
   "cell_type": "code",
   "execution_count": 14,
   "metadata": {},
   "outputs": [
    {
     "data": {
      "text/plain": [
       "<AxesSubplot:xlabel='MEDV', ylabel='Density'>"
      ]
     },
     "execution_count": 14,
     "metadata": {},
     "output_type": "execute_result"
    },
    {
     "data": {
      "image/png": "[encoded data removed]",
      "text/plain": [
       "<Figure size 432x288 with 1 Axes>"
      ]
     },
     "metadata": {
      "needs_background": "light"
     },
     "output_type": "display_data"
    }
   ],
   "source": [
    "# Showing the distribution of our y variable \n",
    "sns.kdeplot(data=df,x='MEDV')\n"
   ]
  },
  {
   "cell_type": "code",
   "execution_count": 15,
   "metadata": {},
   "outputs": [
    {
     "data": {
      "image/png": "[encoded data removed]",
      "text/plain": [
       "<Figure size 864x432 with 2 Axes>"
      ]
     },
     "metadata": {
      "needs_background": "light"
     },
     "output_type": "display_data"
    }
   ],
   "source": [
    "gcf=sns.heatmap(df.corr(),annot=True)\n",
    "\n",
    "fig=plt.gcf()\n",
    "fig.set_size_inches(12,6)\n",
    "plt.show()\n",
    "\n",
    "# Showing the correlation between each variables"
   ]
  },
  {
   "cell_type": "code",
   "execution_count": 19,
   "metadata": {},
   "outputs": [
    {
     "data": {
      "text/html": [
       "<div>\n",
       "<style scoped>\n",
       "    .dataframe tbody tr th:only-of-type {\n",
       "        vertical-align: middle;\n",
       "    }\n",
       "\n",
       "    .dataframe tbody tr th {\n",
       "        vertical-align: top;\n",
       "    }\n",
       "\n",
       "    .dataframe thead th {\n",
       "        text-align: right;\n",
       "    }\n",
       "</style>\n",
       "<table border=\"1\" class=\"dataframe\">\n",
       "  <thead>\n",
       "    <tr style=\"text-align: right;\">\n",
       "      <th></th>\n",
       "      <th>CRIM</th>\n",
       "      <th>ZN</th>\n",
       "      <th>INDUS</th>\n",
       "      <th>CHAS</th>\n",
       "      <th>NOX</th>\n",
       "      <th>RM</th>\n",
       "      <th>AGE</th>\n",
       "      <th>DIS</th>\n",
       "      <th>RAD</th>\n",
       "      <th>TAX</th>\n",
       "      <th>PTRATIO</th>\n",
       "      <th>B</th>\n",
       "      <th>LSTAT</th>\n",
       "    </tr>\n",
       "  </thead>\n",
       "  <tbody>\n",
       "    <tr>\n",
       "      <th>0</th>\n",
       "      <td>0.00632</td>\n",
       "      <td>18.0</td>\n",
       "      <td>2.31</td>\n",
       "      <td>0</td>\n",
       "      <td>0.538</td>\n",
       "      <td>6.575</td>\n",
       "      <td>65.2</td>\n",
       "      <td>4.0900</td>\n",
       "      <td>1</td>\n",
       "      <td>296.0</td>\n",
       "      <td>15.3</td>\n",
       "      <td>396.90</td>\n",
       "      <td>4.98</td>\n",
       "    </tr>\n",
       "    <tr>\n",
       "      <th>1</th>\n",
       "      <td>0.02731</td>\n",
       "      <td>0.0</td>\n",
       "      <td>7.07</td>\n",
       "      <td>0</td>\n",
       "      <td>0.469</td>\n",
       "      <td>6.421</td>\n",
       "      <td>78.9</td>\n",
       "      <td>4.9671</td>\n",
       "      <td>2</td>\n",
       "      <td>242.0</td>\n",
       "      <td>17.8</td>\n",
       "      <td>396.90</td>\n",
       "      <td>9.14</td>\n",
       "    </tr>\n",
       "    <tr>\n",
       "      <th>2</th>\n",
       "      <td>0.02729</td>\n",
       "      <td>0.0</td>\n",
       "      <td>7.07</td>\n",
       "      <td>0</td>\n",
       "      <td>0.469</td>\n",
       "      <td>7.185</td>\n",
       "      <td>61.1</td>\n",
       "      <td>4.9671</td>\n",
       "      <td>2</td>\n",
       "      <td>242.0</td>\n",
       "      <td>17.8</td>\n",
       "      <td>392.83</td>\n",
       "      <td>4.03</td>\n",
       "    </tr>\n",
       "    <tr>\n",
       "      <th>3</th>\n",
       "      <td>0.03237</td>\n",
       "      <td>0.0</td>\n",
       "      <td>2.18</td>\n",
       "      <td>0</td>\n",
       "      <td>0.458</td>\n",
       "      <td>6.998</td>\n",
       "      <td>45.8</td>\n",
       "      <td>6.0622</td>\n",
       "      <td>3</td>\n",
       "      <td>222.0</td>\n",
       "      <td>18.7</td>\n",
       "      <td>394.63</td>\n",
       "      <td>2.94</td>\n",
       "    </tr>\n",
       "    <tr>\n",
       "      <th>4</th>\n",
       "      <td>0.06905</td>\n",
       "      <td>0.0</td>\n",
       "      <td>2.18</td>\n",
       "      <td>0</td>\n",
       "      <td>0.458</td>\n",
       "      <td>7.147</td>\n",
       "      <td>54.2</td>\n",
       "      <td>6.0622</td>\n",
       "      <td>3</td>\n",
       "      <td>222.0</td>\n",
       "      <td>18.7</td>\n",
       "      <td>396.90</td>\n",
       "      <td>5.33</td>\n",
       "    </tr>\n",
       "    <tr>\n",
       "      <th>...</th>\n",
       "      <td>...</td>\n",
       "      <td>...</td>\n",
       "      <td>...</td>\n",
       "      <td>...</td>\n",
       "      <td>...</td>\n",
       "      <td>...</td>\n",
       "      <td>...</td>\n",
       "      <td>...</td>\n",
       "      <td>...</td>\n",
       "      <td>...</td>\n",
       "      <td>...</td>\n",
       "      <td>...</td>\n",
       "      <td>...</td>\n",
       "    </tr>\n",
       "    <tr>\n",
       "      <th>501</th>\n",
       "      <td>0.06263</td>\n",
       "      <td>0.0</td>\n",
       "      <td>11.93</td>\n",
       "      <td>0</td>\n",
       "      <td>0.573</td>\n",
       "      <td>6.593</td>\n",
       "      <td>69.1</td>\n",
       "      <td>2.4786</td>\n",
       "      <td>1</td>\n",
       "      <td>273.0</td>\n",
       "      <td>21.0</td>\n",
       "      <td>391.99</td>\n",
       "      <td>9.67</td>\n",
       "    </tr>\n",
       "    <tr>\n",
       "      <th>502</th>\n",
       "      <td>0.04527</td>\n",
       "      <td>0.0</td>\n",
       "      <td>11.93</td>\n",
       "      <td>0</td>\n",
       "      <td>0.573</td>\n",
       "      <td>6.120</td>\n",
       "      <td>76.7</td>\n",
       "      <td>2.2875</td>\n",
       "      <td>1</td>\n",
       "      <td>273.0</td>\n",
       "      <td>21.0</td>\n",
       "      <td>396.90</td>\n",
       "      <td>9.08</td>\n",
       "    </tr>\n",
       "    <tr>\n",
       "      <th>503</th>\n",
       "      <td>0.06076</td>\n",
       "      <td>0.0</td>\n",
       "      <td>11.93</td>\n",
       "      <td>0</td>\n",
       "      <td>0.573</td>\n",
       "      <td>6.976</td>\n",
       "      <td>91.0</td>\n",
       "      <td>2.1675</td>\n",
       "      <td>1</td>\n",
       "      <td>273.0</td>\n",
       "      <td>21.0</td>\n",
       "      <td>396.90</td>\n",
       "      <td>5.64</td>\n",
       "    </tr>\n",
       "    <tr>\n",
       "      <th>504</th>\n",
       "      <td>0.10959</td>\n",
       "      <td>0.0</td>\n",
       "      <td>11.93</td>\n",
       "      <td>0</td>\n",
       "      <td>0.573</td>\n",
       "      <td>6.794</td>\n",
       "      <td>89.3</td>\n",
       "      <td>2.3889</td>\n",
       "      <td>1</td>\n",
       "      <td>273.0</td>\n",
       "      <td>21.0</td>\n",
       "      <td>393.45</td>\n",
       "      <td>6.48</td>\n",
       "    </tr>\n",
       "    <tr>\n",
       "      <th>505</th>\n",
       "      <td>0.04741</td>\n",
       "      <td>0.0</td>\n",
       "      <td>11.93</td>\n",
       "      <td>0</td>\n",
       "      <td>0.573</td>\n",
       "      <td>6.030</td>\n",
       "      <td>80.8</td>\n",
       "      <td>2.5050</td>\n",
       "      <td>1</td>\n",
       "      <td>273.0</td>\n",
       "      <td>21.0</td>\n",
       "      <td>396.90</td>\n",
       "      <td>7.88</td>\n",
       "    </tr>\n",
       "  </tbody>\n",
       "</table>\n",
       "<p>506 rows × 13 columns</p>\n",
       "</div>"
      ],
      "text/plain": [
       "        CRIM    ZN  INDUS  CHAS    NOX     RM   AGE     DIS  RAD    TAX  \\\n",
       "0    0.00632  18.0   2.31     0  0.538  6.575  65.2  4.0900    1  296.0   \n",
       "1    0.02731   0.0   7.07     0  0.469  6.421  78.9  4.9671    2  242.0   \n",
       "2    0.02729   0.0   7.07     0  0.469  7.185  61.1  4.9671    2  242.0   \n",
       "3    0.03237   0.0   2.18     0  0.458  6.998  45.8  6.0622    3  222.0   \n",
       "4    0.06905   0.0   2.18     0  0.458  7.147  54.2  6.0622    3  222.0   \n",
       "..       ...   ...    ...   ...    ...    ...   ...     ...  ...    ...   \n",
       "501  0.06263   0.0  11.93     0  0.573  6.593  69.1  2.4786    1  273.0   \n",
       "502  0.04527   0.0  11.93     0  0.573  6.120  76.7  2.2875    1  273.0   \n",
       "503  0.06076   0.0  11.93     0  0.573  6.976  91.0  2.1675    1  273.0   \n",
       "504  0.10959   0.0  11.93     0  0.573  6.794  89.3  2.3889    1  273.0   \n",
       "505  0.04741   0.0  11.93     0  0.573  6.030  80.8  2.5050    1  273.0   \n",
       "\n",
       "     PTRATIO       B  LSTAT  \n",
       "0       15.3  396.90   4.98  \n",
       "1       17.8  396.90   9.14  \n",
       "2       17.8  392.83   4.03  \n",
       "3       18.7  394.63   2.94  \n",
       "4       18.7  396.90   5.33  \n",
       "..       ...     ...    ...  \n",
       "501     21.0  391.99   9.67  \n",
       "502     21.0  396.90   9.08  \n",
       "503     21.0  396.90   5.64  \n",
       "504     21.0  393.45   6.48  \n",
       "505     21.0  396.90   7.88  \n",
       "\n",
       "[506 rows x 13 columns]"
      ]
     },
     "execution_count": 19,
     "metadata": {},
     "output_type": "execute_result"
    }
   ],
   "source": [
    "X=df.drop(columns='MEDV')\n",
    "X"
   ]
  },
  {
   "cell_type": "markdown",
   "metadata": {},
   "source": [
    "# Implementing Linear Regression, KNN Regression (Logistic) & Support Vector Regression (SVR)"
   ]
  },
  {
   "cell_type": "code",
   "execution_count": 17,
   "metadata": {},
   "outputs": [],
   "source": [
    "y=df['MEDV']"
   ]
  },
  {
   "cell_type": "code",
   "execution_count": 18,
   "metadata": {},
   "outputs": [],
   "source": [
    "from sklearn.preprocessing import StandardScaler\n",
    "import numpy as np"
   ]
  },
  {
   "cell_type": "code",
   "execution_count": 19,
   "metadata": {},
   "outputs": [],
   "source": [
    "scale_X=StandardScaler()\n",
    "scale_y=StandardScaler()\n",
    "\n",
    "X=scale_X.fit_transform(X)\n",
    "y=scale_y.fit_transform(y.values.reshape(-1,1))"
   ]
  },
  {
   "cell_type": "code",
   "execution_count": 20,
   "metadata": {},
   "outputs": [
    {
     "data": {
      "text/plain": [
       "(506, 1)"
      ]
     },
     "execution_count": 20,
     "metadata": {},
     "output_type": "execute_result"
    }
   ],
   "source": [
    "y.shape"
   ]
  },
  {
   "cell_type": "code",
   "execution_count": 21,
   "metadata": {},
   "outputs": [],
   "source": [
    "from sklearn.model_selection import train_test_split\n",
    "X1_train,X1_test,y1_train,y1_test=train_test_split(X,y,test_size=0.3)\n",
    "X2_train,X2_test,y2_train,y2_test=train_test_split(X,y,test_size=0.2)\n",
    "X3_train,X3_test,y3_train,y3_test=train_test_split(X,y,test_size=0.25)\n"
   ]
  },
  {
   "cell_type": "code",
   "execution_count": 22,
   "metadata": {},
   "outputs": [],
   "source": [
    "from sklearn.neighbors import KNeighborsRegressor\n",
    "neigh=KNeighborsRegressor(n_neighbors=5)"
   ]
  },
  {
   "cell_type": "code",
   "execution_count": 23,
   "metadata": {},
   "outputs": [
    {
     "data": {
      "text/plain": [
       "KNeighborsRegressor()"
      ]
     },
     "execution_count": 23,
     "metadata": {},
     "output_type": "execute_result"
    }
   ],
   "source": [
    "neigh.fit(X1_train,y1_train)"
   ]
  },
  {
   "cell_type": "code",
   "execution_count": 24,
   "metadata": {},
   "outputs": [
    {
     "data": {
      "text/plain": [
       "array([[-0.46286471],\n",
       "       [ 2.03386702],\n",
       "       [ 0.80835702],\n",
       "       [ 0.74958479],\n",
       "       [ 1.07827397],\n",
       "       [ 0.08567617],\n",
       "       [-0.40844597],\n",
       "       [-0.79590739],\n",
       "       [ 1.09786471],\n",
       "       [-0.66530242],\n",
       "       [-0.11023129],\n",
       "       [-0.11458478],\n",
       "       [ 1.29594892],\n",
       "       [-1.33138778],\n",
       "       [-0.27566425],\n",
       "       [ 1.77918732],\n",
       "       [ 0.28811388],\n",
       "       [-0.62394418],\n",
       "       [ 0.96072949],\n",
       "       [-0.43021347],\n",
       "       [ 0.1966904 ],\n",
       "       [ 0.12485767],\n",
       "       [-0.09717079],\n",
       "       [ 0.37083037],\n",
       "       [-0.46721821],\n",
       "       [-1.05711734],\n",
       "       [-0.09934754],\n",
       "       [-0.18206402],\n",
       "       [ 0.01602019],\n",
       "       [-1.29220629],\n",
       "       [-1.14418732],\n",
       "       [-0.12982203],\n",
       "       [-1.38580652],\n",
       "       [-0.18859427],\n",
       "       [-0.25172001],\n",
       "       [-0.35185049],\n",
       "       [-1.22037356],\n",
       "       [-0.295255  ],\n",
       "       [ 0.29029063],\n",
       "       [-0.286548  ],\n",
       "       [ 0.6929893 ],\n",
       "       [ 0.28811388],\n",
       "       [ 1.06739022],\n",
       "       [ 1.78571757],\n",
       "       [-1.05058709],\n",
       "       [ 0.42742585],\n",
       "       [-0.55864169],\n",
       "       [-0.79808414],\n",
       "       [ 0.28376038],\n",
       "       [-0.25825025],\n",
       "       [-0.09499404],\n",
       "       [ 1.1588137 ],\n",
       "       [-0.82855864],\n",
       "       [-0.69360017],\n",
       "       [ 2.00556928],\n",
       "       [-0.09717079],\n",
       "       [ 0.98902724],\n",
       "       [-1.24214105],\n",
       "       [ 1.1544602 ],\n",
       "       [ 0.32729537],\n",
       "       [-0.41497622],\n",
       "       [-0.46939496],\n",
       "       [-0.46721821],\n",
       "       [ 0.39695136],\n",
       "       [-0.85685638],\n",
       "       [ 0.07696918],\n",
       "       [-0.97875436],\n",
       "       [ 1.07609722],\n",
       "       [-0.57823244],\n",
       "       [-1.27914579],\n",
       "       [-1.33138778],\n",
       "       [-1.32703428],\n",
       "       [ 1.60940086],\n",
       "       [-0.22124551],\n",
       "       [ 0.88889676],\n",
       "       [ 0.17056941],\n",
       "       [ 0.35559312],\n",
       "       [ 0.15315541],\n",
       "       [ 0.47749109],\n",
       "       [-0.65877217],\n",
       "       [ 0.29899763],\n",
       "       [-0.82638189],\n",
       "       [-0.29743175],\n",
       "       [-0.90256812],\n",
       "       [-0.20600827],\n",
       "       [ 1.92938304],\n",
       "       [-0.65224192],\n",
       "       [ 0.7016963 ],\n",
       "       [-0.97875436],\n",
       "       [ 1.97074128],\n",
       "       [-0.28001775],\n",
       "       [-0.32355274],\n",
       "       [-0.11023129],\n",
       "       [ 0.26634639],\n",
       "       [-0.20383152],\n",
       "       [ 0.71475679],\n",
       "       [ 1.27418143],\n",
       "       [-1.25955505],\n",
       "       [ 0.38389086],\n",
       "       [ 1.27418143],\n",
       "       [ 1.1936417 ],\n",
       "       [-0.03404505],\n",
       "       [-0.74148866],\n",
       "       [-0.25172001],\n",
       "       [ 0.05084818],\n",
       "       [-0.71972116],\n",
       "       [ 0.57326807],\n",
       "       [-0.18641752],\n",
       "       [-1.62089547],\n",
       "       [-0.30613875],\n",
       "       [-0.65224192],\n",
       "       [ 1.62899161],\n",
       "       [-0.17988727],\n",
       "       [-1.23343405],\n",
       "       [-0.80026089],\n",
       "       [ 2.1514115 ],\n",
       "       [ 0.42307235],\n",
       "       [ 0.09220642],\n",
       "       [-1.09194533],\n",
       "       [-1.00922885],\n",
       "       [-0.12329178],\n",
       "       [-0.10152429],\n",
       "       [-0.02098455],\n",
       "       [-0.42150647],\n",
       "       [-1.33138778],\n",
       "       [ 0.09438317],\n",
       "       [ 0.46660735],\n",
       "       [-0.51292995],\n",
       "       [-0.11893828],\n",
       "       [ 0.24675564],\n",
       "       [-0.42150647],\n",
       "       [-0.47810196],\n",
       "       [-1.05058709],\n",
       "       [-1.25084805],\n",
       "       [-0.49986946],\n",
       "       [-0.31266899],\n",
       "       [ 1.28071168],\n",
       "       [ 1.07609722],\n",
       "       [-0.57823244],\n",
       "       [ 0.78441278],\n",
       "       [-0.0362218 ],\n",
       "       [-1.48811375],\n",
       "       [ 0.03778768],\n",
       "       [-1.38580652],\n",
       "       [ 0.57326807],\n",
       "       [-1.33138778],\n",
       "       [ 0.34253262],\n",
       "       [-1.08106158],\n",
       "       [ 1.16969745],\n",
       "       [-0.62394418],\n",
       "       [ 0.39477461],\n",
       "       [-0.49116246]])"
      ]
     },
     "execution_count": 24,
     "metadata": {},
     "output_type": "execute_result"
    }
   ],
   "source": [
    "neigh.predict(X1_test)"
   ]
  },
  {
   "cell_type": "code",
   "execution_count": 25,
   "metadata": {},
   "outputs": [
    {
     "data": {
      "text/plain": [
       "0.804885250994055"
      ]
     },
     "execution_count": 25,
     "metadata": {},
     "output_type": "execute_result"
    }
   ],
   "source": [
    "neigh.score(X1_test,y1_test)"
   ]
  },
  {
   "cell_type": "code",
   "execution_count": 26,
   "metadata": {},
   "outputs": [],
   "source": [
    "from sklearn.linear_model import LinearRegression\n",
    "LinearRegressor=LinearRegression()"
   ]
  },
  {
   "cell_type": "code",
   "execution_count": 27,
   "metadata": {},
   "outputs": [
    {
     "data": {
      "text/plain": [
       "LinearRegression()"
      ]
     },
     "execution_count": 27,
     "metadata": {},
     "output_type": "execute_result"
    }
   ],
   "source": [
    "LinearRegressor.fit(X1_train,y1_train)"
   ]
  },
  {
   "cell_type": "code",
   "execution_count": 28,
   "metadata": {},
   "outputs": [
    {
     "data": {
      "text/plain": [
       "array([[-0.3375091 ],\n",
       "       [ 2.27511502],\n",
       "       [ 1.01599972],\n",
       "       [ 0.53165588],\n",
       "       [-0.02469643],\n",
       "       [ 0.80810699],\n",
       "       [-0.21062291],\n",
       "       [-1.13015975],\n",
       "       [ 1.31583426],\n",
       "       [-0.51113617],\n",
       "       [ 0.15699236],\n",
       "       [-1.50094151],\n",
       "       [ 1.46956557],\n",
       "       [-1.75505893],\n",
       "       [-0.27301364],\n",
       "       [ 1.21667883],\n",
       "       [ 0.63294007],\n",
       "       [-0.91160858],\n",
       "       [ 1.16555067],\n",
       "       [-0.44711295],\n",
       "       [ 0.24092202],\n",
       "       [ 0.19383724],\n",
       "       [ 0.30352011],\n",
       "       [ 0.47937374],\n",
       "       [-0.25004067],\n",
       "       [-0.13778309],\n",
       "       [ 0.48084509],\n",
       "       [-0.48169603],\n",
       "       [ 0.28584689],\n",
       "       [-1.86322658],\n",
       "       [-0.37579053],\n",
       "       [-0.31254312],\n",
       "       [-1.73276761],\n",
       "       [-0.5801777 ],\n",
       "       [-0.86859852],\n",
       "       [ 0.17434784],\n",
       "       [-0.52591009],\n",
       "       [-0.37173968],\n",
       "       [ 0.55125987],\n",
       "       [-0.2922085 ],\n",
       "       [ 1.33316095],\n",
       "       [ 0.29280667],\n",
       "       [ 1.5946836 ],\n",
       "       [ 1.31864441],\n",
       "       [-0.55636052],\n",
       "       [ 0.95300279],\n",
       "       [-0.5398258 ],\n",
       "       [-0.76705107],\n",
       "       [ 0.63772748],\n",
       "       [-0.23552877],\n",
       "       [ 0.14536928],\n",
       "       [ 0.84643933],\n",
       "       [-0.58358937],\n",
       "       [-0.48130679],\n",
       "       [ 1.59983597],\n",
       "       [-0.66375512],\n",
       "       [ 0.87632328],\n",
       "       [-0.6227822 ],\n",
       "       [ 1.37729603],\n",
       "       [ 0.74213992],\n",
       "       [-0.48624052],\n",
       "       [-0.2041665 ],\n",
       "       [-0.22487207],\n",
       "       [ 0.15440202],\n",
       "       [-1.58733687],\n",
       "       [ 0.56147296],\n",
       "       [-1.68620377],\n",
       "       [ 1.50745635],\n",
       "       [-0.50758449],\n",
       "       [-0.94298749],\n",
       "       [-0.6635272 ],\n",
       "       [-0.71754491],\n",
       "       [ 1.36746508],\n",
       "       [-0.22072834],\n",
       "       [ 1.04707934],\n",
       "       [ 0.62216723],\n",
       "       [ 0.44829674],\n",
       "       [-0.03048558],\n",
       "       [ 0.6274488 ],\n",
       "       [-0.56297936],\n",
       "       [ 0.76879419],\n",
       "       [-1.02270029],\n",
       "       [-0.22100733],\n",
       "       [-0.99729714],\n",
       "       [-0.19650366],\n",
       "       [ 1.9401056 ],\n",
       "       [-0.68881405],\n",
       "       [ 0.91346133],\n",
       "       [-1.21584099],\n",
       "       [ 1.57598931],\n",
       "       [-0.3522236 ],\n",
       "       [-0.91444954],\n",
       "       [ 0.08335814],\n",
       "       [ 1.09400805],\n",
       "       [-0.14799429],\n",
       "       [ 0.82507337],\n",
       "       [ 1.3237878 ],\n",
       "       [-0.90679546],\n",
       "       [ 0.8216607 ],\n",
       "       [ 1.26293676],\n",
       "       [ 1.14585664],\n",
       "       [ 0.25920804],\n",
       "       [-0.39157713],\n",
       "       [ 0.08158745],\n",
       "       [ 0.48819372],\n",
       "       [-0.12728372],\n",
       "       [ 0.6550041 ],\n",
       "       [-0.47484104],\n",
       "       [-0.76496552],\n",
       "       [-0.07061427],\n",
       "       [-1.072223  ],\n",
       "       [ 1.32075672],\n",
       "       [-0.21731946],\n",
       "       [-1.14124558],\n",
       "       [-0.19873282],\n",
       "       [ 1.61873288],\n",
       "       [ 0.62086995],\n",
       "       [ 0.45865331],\n",
       "       [-0.30349198],\n",
       "       [-0.91674228],\n",
       "       [ 0.08187105],\n",
       "       [-0.02646827],\n",
       "       [ 0.11776108],\n",
       "       [-0.05162287],\n",
       "       [-1.45575026],\n",
       "       [ 0.31898406],\n",
       "       [ 0.9131558 ],\n",
       "       [-0.81896665],\n",
       "       [-0.03512954],\n",
       "       [ 0.93558475],\n",
       "       [ 0.01699505],\n",
       "       [-0.59162123],\n",
       "       [-0.46863055],\n",
       "       [-0.85963946],\n",
       "       [-0.99751874],\n",
       "       [-0.28101968],\n",
       "       [ 1.0261617 ],\n",
       "       [ 1.56488677],\n",
       "       [-0.95127432],\n",
       "       [ 1.05152118],\n",
       "       [ 0.4743981 ],\n",
       "       [-1.58868065],\n",
       "       [-0.24236899],\n",
       "       [-2.36764757],\n",
       "       [ 0.98167684],\n",
       "       [-1.7281877 ],\n",
       "       [ 0.48163708],\n",
       "       [-0.63769239],\n",
       "       [ 0.95243152],\n",
       "       [-0.72509711],\n",
       "       [ 0.62450165],\n",
       "       [-0.5687826 ]])"
      ]
     },
     "execution_count": 28,
     "metadata": {},
     "output_type": "execute_result"
    }
   ],
   "source": [
    "LinearRegressor.predict(X1_test)"
   ]
  },
  {
   "cell_type": "code",
   "execution_count": 29,
   "metadata": {},
   "outputs": [],
   "source": [
    "from sklearn.svm import SVR"
   ]
  },
  {
   "cell_type": "code",
   "execution_count": 30,
   "metadata": {},
   "outputs": [
    {
     "name": "stderr",
     "output_type": "stream",
     "text": [
      "c:\\Users\\adib-\\anaconda3\\lib\\site-packages\\sklearn\\utils\\validation.py:72: DataConversionWarning: A column-vector y was passed when a 1d array was expected. Please change the shape of y to (n_samples, ), for example using ravel().\n",
      "  return f(**kwargs)\n"
     ]
    },
    {
     "data": {
      "text/plain": [
       "SVR(gamma='auto')"
      ]
     },
     "execution_count": 30,
     "metadata": {},
     "output_type": "execute_result"
    }
   ],
   "source": [
    "svr_regressor = SVR(kernel='rbf', gamma='auto')\n",
    "svr_regressor.fit(X1_train, y1_train)"
   ]
  },
  {
   "cell_type": "code",
   "execution_count": 31,
   "metadata": {},
   "outputs": [
    {
     "data": {
      "text/plain": [
       "array([-0.52328827,  2.65100245,  0.77289817,  0.91975073, -0.0753436 ,\n",
       "        0.23651393, -0.36840647, -0.71303274,  1.0944247 , -0.7629628 ,\n",
       "       -0.22808494, -0.1194387 ,  1.25723943, -1.44155811, -0.35401245,\n",
       "        2.04279896,  0.39871908, -0.74556162,  0.93319601, -0.46598294,\n",
       "        0.13853622,  0.32193638, -0.03361864,  0.3194756 , -0.33152703,\n",
       "       -0.57451762,  0.56719899, -0.15866165,  0.21379817, -1.56171725,\n",
       "       -0.94963697, -0.13796546, -1.59119816, -0.41287844, -0.37554181,\n",
       "       -0.46698401, -1.05727103, -0.43845797,  0.22674944,  0.07115878,\n",
       "        0.69634306,  0.22873489,  1.89932162,  2.01214037, -1.02635672,\n",
       "        0.42134462, -0.63466817, -0.74948854,  0.36876983, -0.15408973,\n",
       "        0.00794116,  0.705518  , -0.91290063, -0.69076921,  2.04703159,\n",
       "       -0.28561585,  0.61021257, -1.26660067,  1.43881998,  0.27750554,\n",
       "       -0.49662131, -0.34789275, -0.29898787,  0.06772983, -1.05601577,\n",
       "        0.41653375, -0.93577719,  1.36633547, -0.55332411, -1.12979894,\n",
       "       -0.90419513, -1.27444644,  1.21960502, -0.27034199,  1.00761523,\n",
       "        0.5889322 ,  0.30082207, -0.05841694,  0.83725297, -0.6359462 ,\n",
       "        0.38795688, -0.81769973, -0.30413956, -0.85258978, -0.21460948,\n",
       "        2.57711764, -0.66803149,  0.31909553, -1.39254747,  2.11024255,\n",
       "       -0.34945993, -0.61599761, -0.19963135,  0.61515197, -0.27772842,\n",
       "        1.048529  ,  1.44524971, -1.24973331,  0.81745795,  1.0759734 ,\n",
       "        1.2686129 ,  0.01961324, -0.38421202, -0.35783007,  0.32671206,\n",
       "       -0.28906595,  0.62354278, -0.23910972, -0.57399867, -0.02684519,\n",
       "       -0.84361691,  2.14825557, -0.09776385, -1.29445485, -0.52522018,\n",
       "        2.4275901 ,  0.6363719 ,  0.06946956, -0.97470931, -0.94686087,\n",
       "       -0.0742885 ,  0.0751706 ,  0.04384509, -0.09659635, -0.86725126,\n",
       "        0.0593207 ,  0.84245777, -0.69671265,  0.05665962,  0.39769837,\n",
       "       -0.14316072, -0.67470335, -0.98875384, -1.16067321, -0.62817282,\n",
       "       -0.4771223 ,  1.2743318 ,  1.72968205, -0.68464262,  1.14379149,\n",
       "        0.18399227, -1.47152724, -0.16540522, -1.17534163,  0.74919954,\n",
       "       -1.41923361,  0.19356771, -0.91173994,  1.2220837 , -0.64199425,\n",
       "        0.38576009, -0.50840859])"
      ]
     },
     "execution_count": 31,
     "metadata": {},
     "output_type": "execute_result"
    }
   ],
   "source": [
    "svr_regressor.predict(X1_test)"
   ]
  },
  {
   "cell_type": "code",
   "execution_count": 32,
   "metadata": {},
   "outputs": [],
   "source": [
    "import matplotlib.pyplot as plt\n",
    "import math"
   ]
  },
  {
   "cell_type": "code",
   "execution_count": 33,
   "metadata": {},
   "outputs": [],
   "source": [
    "from sklearn.metrics import mean_absolute_error,mean_squared_error,r2_score"
   ]
  },
  {
   "cell_type": "code",
   "execution_count": 34,
   "metadata": {},
   "outputs": [
    {
     "data": {
      "text/plain": [
       "0.8917593821887925"
      ]
     },
     "execution_count": 34,
     "metadata": {},
     "output_type": "execute_result"
    }
   ],
   "source": [
    "svr_regressor.score(X1_test,y1_test)"
   ]
  },
  {
   "cell_type": "code",
   "execution_count": 35,
   "metadata": {},
   "outputs": [],
   "source": [
    "#R2 Score\n",
    "rsquare_score_lr=r2_score(y1_test,LinearRegressor.predict(X1_test))\n",
    "rsquare_score_knn=r2_score(y1_test,neigh.predict(X1_test))\n",
    "rsquare_score_svr=r2_score(y1_test,svr_regressor.predict(X1_test))"
   ]
  },
  {
   "cell_type": "code",
   "execution_count": 36,
   "metadata": {},
   "outputs": [
    {
     "data": {
      "text/plain": [
       "0.7532965854473898"
      ]
     },
     "execution_count": 36,
     "metadata": {},
     "output_type": "execute_result"
    }
   ],
   "source": [
    "rsquare_score_lr"
   ]
  },
  {
   "cell_type": "code",
   "execution_count": 37,
   "metadata": {},
   "outputs": [
    {
     "data": {
      "text/plain": [
       "0.8917593821887925"
      ]
     },
     "execution_count": 37,
     "metadata": {},
     "output_type": "execute_result"
    }
   ],
   "source": [
    "rsquare_score_svr"
   ]
  },
  {
   "cell_type": "code",
   "execution_count": 38,
   "metadata": {},
   "outputs": [],
   "source": [
    "#Adjusted R2 Square\n",
    "adj_rsquare_score_lr=1-(((1-rsquare_score_lr)*(len(df)-1))/(len(df)-len(df.columns)-1))\n",
    "adj_rsquare_score_knn=1-(((1-rsquare_score_knn)*(len(df)-1))/(len(df)-len(df.columns)-1))\n",
    "adj_rsquare_score_svr=1-(((1-rsquare_score_svr)*(len(df)-1))/(len(df)-len(df.columns)-1))\n"
   ]
  },
  {
   "cell_type": "code",
   "execution_count": 39,
   "metadata": {},
   "outputs": [
    {
     "name": "stdout",
     "output_type": "stream",
     "text": [
      "0.7993218976619099\n",
      "0.8886730916605706\n",
      "0.7462622722014904\n"
     ]
    }
   ],
   "source": [
    "print(adj_rsquare_score_knn)\n",
    "print(adj_rsquare_score_svr)\n",
    "print(adj_rsquare_score_lr)"
   ]
  },
  {
   "cell_type": "code",
   "execution_count": 40,
   "metadata": {},
   "outputs": [
    {
     "data": {
      "text/plain": [
       "0.8886730916605706"
      ]
     },
     "execution_count": 40,
     "metadata": {},
     "output_type": "execute_result"
    }
   ],
   "source": [
    "adj_rsquare_score_svr"
   ]
  },
  {
   "cell_type": "code",
   "execution_count": 41,
   "metadata": {},
   "outputs": [],
   "source": [
    "#Mean Absolute Error\n",
    "mae_lr=mean_absolute_error(y1_test,LinearRegressor.predict(X1_test))\n",
    "mae_svr=mean_absolute_error(y1_test,svr_regressor.predict(X1_test))\n",
    "mae_knn=mean_absolute_error(y1_test,neigh.predict(X1_test))\n"
   ]
  },
  {
   "cell_type": "code",
   "execution_count": 42,
   "metadata": {},
   "outputs": [],
   "source": [
    "#Mean Squared Error \n",
    "mse_lr=mean_squared_error(y1_test,LinearRegressor.predict(X1_test))\n",
    "mse_svr=mean_squared_error(y1_test,svr_regressor.predict(X1_test))\n",
    "mse_knn=mean_squared_error(y1_test,neigh.predict(X1_test))"
   ]
  },
  {
   "cell_type": "code",
   "execution_count": 43,
   "metadata": {},
   "outputs": [
    {
     "data": {
      "text/plain": [
       "0.1849846693735548"
      ]
     },
     "execution_count": 43,
     "metadata": {},
     "output_type": "execute_result"
    }
   ],
   "source": [
    "mse_knn"
   ]
  },
  {
   "cell_type": "code",
   "execution_count": 44,
   "metadata": {},
   "outputs": [],
   "source": [
    "#Root Mean Squared Error\n",
    "rmse_lr=math.sqrt(mse_lr)\n",
    "rmse_knn=math.sqrt(mse_knn)\n",
    "rmse_svr=math.sqrt(mse_svr)"
   ]
  },
  {
   "cell_type": "code",
   "execution_count": 45,
   "metadata": {},
   "outputs": [
    {
     "name": "stderr",
     "output_type": "stream",
     "text": [
      "c:\\Users\\adib-\\anaconda3\\lib\\site-packages\\sklearn\\utils\\validation.py:72: DataConversionWarning: A column-vector y was passed when a 1d array was expected. Please change the shape of y to (n_samples, ), for example using ravel().\n",
      "  return f(**kwargs)\n"
     ]
    },
    {
     "data": {
      "text/plain": [
       "LinearRegression()"
      ]
     },
     "execution_count": 45,
     "metadata": {},
     "output_type": "execute_result"
    }
   ],
   "source": [
    "#Second Model\n",
    "\n",
    "neigh.fit(X2_train,y2_train)\n",
    "svr_regressor.fit(X2_train, y2_train)\n",
    "LinearRegressor.fit(X2_train,y2_train)"
   ]
  },
  {
   "cell_type": "code",
   "execution_count": 46,
   "metadata": {},
   "outputs": [],
   "source": [
    "#R2 Score-Second Model\n",
    "rsquare_score2_lr=r2_score(y2_test,LinearRegressor.predict(X2_test))\n",
    "rsquare_score2_knn=r2_score(y2_test,neigh.predict(X2_test))\n",
    "rsquare_score2_svr=r2_score(y2_test,svr_regressor.predict(X2_test))"
   ]
  },
  {
   "cell_type": "code",
   "execution_count": 47,
   "metadata": {},
   "outputs": [],
   "source": [
    "#Adjusted R2 Square-Second Model\n",
    "adj_rsquare_score2_lr=1-(((1-rsquare_score2_lr)*(len(df)-1))/(len(df)-len(df.columns)-1))\n",
    "adj_rsquare_score2_knn=1-(((1-rsquare_score2_knn)*(len(df)-1))/(len(df)-len(df.columns)-1))\n",
    "adj_rsquare_score2_svr=1-(((1-rsquare_score2_svr)*(len(df)-1))/(len(df)-len(df.columns)-1))"
   ]
  },
  {
   "cell_type": "code",
   "execution_count": 48,
   "metadata": {},
   "outputs": [],
   "source": [
    "#Mean Absolute Error-Second Model\n",
    "mae2_lr=mean_absolute_error(y2_test,LinearRegressor.predict(X2_test))\n",
    "mae2_svr=mean_absolute_error(y2_test,svr_regressor.predict(X2_test))\n",
    "mae2_knn=mean_absolute_error(y2_test,neigh.predict(X2_test))"
   ]
  },
  {
   "cell_type": "code",
   "execution_count": 49,
   "metadata": {},
   "outputs": [],
   "source": [
    "#Mean Squared Error-Second Model\n",
    "mse2_lr=mean_squared_error(y2_test,LinearRegressor.predict(X2_test))\n",
    "mse2_svr=mean_squared_error(y2_test,svr_regressor.predict(X2_test))\n",
    "mse2_knn=mean_squared_error(y2_test,neigh.predict(X2_test))"
   ]
  },
  {
   "cell_type": "code",
   "execution_count": 50,
   "metadata": {},
   "outputs": [],
   "source": [
    "#Root Mean Squared Error Second Model\n",
    "rmse2_lr=math.sqrt(mse2_lr)\n",
    "rmse2_knn=math.sqrt(mse2_knn)\n",
    "rmse2_svr=math.sqrt(mse2_svr)"
   ]
  },
  {
   "cell_type": "code",
   "execution_count": 51,
   "metadata": {},
   "outputs": [
    {
     "name": "stderr",
     "output_type": "stream",
     "text": [
      "c:\\Users\\adib-\\anaconda3\\lib\\site-packages\\sklearn\\utils\\validation.py:72: DataConversionWarning: A column-vector y was passed when a 1d array was expected. Please change the shape of y to (n_samples, ), for example using ravel().\n",
      "  return f(**kwargs)\n"
     ]
    },
    {
     "data": {
      "text/plain": [
       "LinearRegression()"
      ]
     },
     "execution_count": 51,
     "metadata": {},
     "output_type": "execute_result"
    }
   ],
   "source": [
    "#Third Model\n",
    "\n",
    "neigh.fit(X3_train,y3_train)\n",
    "svr_regressor.fit(X3_train, y3_train)\n",
    "LinearRegressor.fit(X3_train,y3_train)"
   ]
  },
  {
   "cell_type": "code",
   "execution_count": 52,
   "metadata": {},
   "outputs": [],
   "source": [
    "#R2 Score-Third Model\n",
    "rsquare_score3_lr=r2_score(y3_test,LinearRegressor.predict(X3_test))\n",
    "rsquare_score3_knn=r2_score(y3_test,neigh.predict(X3_test))\n",
    "rsquare_score3_svr=r2_score(y3_test,svr_regressor.predict(X3_test))"
   ]
  },
  {
   "cell_type": "code",
   "execution_count": 53,
   "metadata": {},
   "outputs": [],
   "source": [
    "#Adjusted R2 Square-Third Model\n",
    "adj_rsquare_score3_lr=1-(((1-rsquare_score3_lr)*(len(df)-1))/(len(df)-len(df.columns)-1))\n",
    "adj_rsquare_score3_knn=1-(((1-rsquare_score3_knn)*(len(df)-1))/(len(df)-len(df.columns)-1))\n",
    "adj_rsquare_score3_svr=1-(((1-rsquare_score3_svr)*(len(df)-1))/(len(df)-len(df.columns)-1))"
   ]
  },
  {
   "cell_type": "code",
   "execution_count": 54,
   "metadata": {},
   "outputs": [],
   "source": [
    "#Mean Absolute Error-Third Model\n",
    "mae3_lr=mean_absolute_error(y3_test,LinearRegressor.predict(X3_test))\n",
    "mae3_svr=mean_absolute_error(y3_test,svr_regressor.predict(X3_test))\n",
    "mae3_knn=mean_absolute_error(y3_test,neigh.predict(X3_test))"
   ]
  },
  {
   "cell_type": "code",
   "execution_count": 55,
   "metadata": {},
   "outputs": [],
   "source": [
    "#Mean Squared Error-Second Model\n",
    "mse3_lr=mean_squared_error(y3_test,LinearRegressor.predict(X3_test))\n",
    "mse3_svr=mean_squared_error(y3_test,svr_regressor.predict(X3_test))\n",
    "mse3_knn=mean_squared_error(y3_test,neigh.predict(X3_test))"
   ]
  },
  {
   "cell_type": "code",
   "execution_count": 56,
   "metadata": {},
   "outputs": [],
   "source": [
    "#Root Mean Squared Error Model-Third Model\n",
    "rmse3_lr=math.sqrt(mse3_lr)\n",
    "rmse3_knn=math.sqrt(mse3_knn)\n",
    "rmse3_svr=math.sqrt(mse3_svr)"
   ]
  },
  {
   "cell_type": "markdown",
   "metadata": {},
   "source": [
    "Table 1"
   ]
  },
  {
   "cell_type": "code",
   "execution_count": 57,
   "metadata": {},
   "outputs": [
    {
     "data": {
      "text/html": [
       "<div>\n",
       "<style scoped>\n",
       "    .dataframe tbody tr th:only-of-type {\n",
       "        vertical-align: middle;\n",
       "    }\n",
       "\n",
       "    .dataframe tbody tr th {\n",
       "        vertical-align: top;\n",
       "    }\n",
       "\n",
       "    .dataframe thead th {\n",
       "        text-align: right;\n",
       "    }\n",
       "</style>\n",
       "<table border=\"1\" class=\"dataframe\">\n",
       "  <thead>\n",
       "    <tr style=\"text-align: right;\">\n",
       "      <th></th>\n",
       "      <th>R_Square</th>\n",
       "      <th>MAE</th>\n",
       "      <th>MSE</th>\n",
       "      <th>RMSE</th>\n",
       "    </tr>\n",
       "  </thead>\n",
       "  <tbody>\n",
       "    <tr>\n",
       "      <th>KNN</th>\n",
       "      <td>NaN</td>\n",
       "      <td>NaN</td>\n",
       "      <td>NaN</td>\n",
       "      <td>NaN</td>\n",
       "    </tr>\n",
       "    <tr>\n",
       "      <th>SVM</th>\n",
       "      <td>NaN</td>\n",
       "      <td>NaN</td>\n",
       "      <td>NaN</td>\n",
       "      <td>NaN</td>\n",
       "    </tr>\n",
       "    <tr>\n",
       "      <th>LR</th>\n",
       "      <td>NaN</td>\n",
       "      <td>NaN</td>\n",
       "      <td>NaN</td>\n",
       "      <td>NaN</td>\n",
       "    </tr>\n",
       "  </tbody>\n",
       "</table>\n",
       "</div>"
      ],
      "text/plain": [
       "    R_Square  MAE  MSE RMSE\n",
       "KNN      NaN  NaN  NaN  NaN\n",
       "SVM      NaN  NaN  NaN  NaN\n",
       "LR       NaN  NaN  NaN  NaN"
      ]
     },
     "execution_count": 57,
     "metadata": {},
     "output_type": "execute_result"
    }
   ],
   "source": [
    "\n",
    "df1=pd.DataFrame(columns=['R_Square','MAE','MSE','RMSE'],index=['KNN','SVM','LR'])\n",
    "df1"
   ]
  },
  {
   "cell_type": "code",
   "execution_count": 58,
   "metadata": {},
   "outputs": [
    {
     "data": {
      "text/html": [
       "<div>\n",
       "<style scoped>\n",
       "    .dataframe tbody tr th:only-of-type {\n",
       "        vertical-align: middle;\n",
       "    }\n",
       "\n",
       "    .dataframe tbody tr th {\n",
       "        vertical-align: top;\n",
       "    }\n",
       "\n",
       "    .dataframe thead th {\n",
       "        text-align: right;\n",
       "    }\n",
       "</style>\n",
       "<table border=\"1\" class=\"dataframe\">\n",
       "  <thead>\n",
       "    <tr style=\"text-align: right;\">\n",
       "      <th></th>\n",
       "      <th>R_Square</th>\n",
       "      <th>MAE</th>\n",
       "      <th>MSE</th>\n",
       "      <th>RMSE</th>\n",
       "    </tr>\n",
       "  </thead>\n",
       "  <tbody>\n",
       "    <tr>\n",
       "      <th>KNN</th>\n",
       "      <td>0.799322</td>\n",
       "      <td>0.284252</td>\n",
       "      <td>0.184985</td>\n",
       "      <td>0.430098</td>\n",
       "    </tr>\n",
       "    <tr>\n",
       "      <th>SVM</th>\n",
       "      <td>0.888673</td>\n",
       "      <td>0.231151</td>\n",
       "      <td>0.102621</td>\n",
       "      <td>0.320345</td>\n",
       "    </tr>\n",
       "    <tr>\n",
       "      <th>LR</th>\n",
       "      <td>0.746262</td>\n",
       "      <td>0.349328</td>\n",
       "      <td>0.233895</td>\n",
       "      <td>0.483627</td>\n",
       "    </tr>\n",
       "  </tbody>\n",
       "</table>\n",
       "</div>"
      ],
      "text/plain": [
       "     R_Square       MAE       MSE      RMSE\n",
       "KNN  0.799322  0.284252  0.184985  0.430098\n",
       "SVM  0.888673  0.231151  0.102621  0.320345\n",
       "LR   0.746262  0.349328  0.233895  0.483627"
      ]
     },
     "execution_count": 58,
     "metadata": {},
     "output_type": "execute_result"
    }
   ],
   "source": [
    "df1.iloc[0:1,0]=adj_rsquare_score_knn\n",
    "df1.iloc[1:2,0]=adj_rsquare_score_svr\n",
    "df1.iloc[2:3,0]=adj_rsquare_score_lr\n",
    "df1.iloc[0:1,1:2]=mae_knn\n",
    "df1.iloc[1:2,1:2]=mae_svr\n",
    "df1.iloc[2:3,1:2]=mae_lr\n",
    "df1.iloc[0:1,2:3]=mse_knn\n",
    "df1.iloc[1:2,2:3]=mse_svr\n",
    "df1.iloc[2:3,2:3]=mse_lr\n",
    "df1.iloc[0:1,3:4]=rmse_knn\n",
    "df1.iloc[1:2,3:4]=rmse_svr\n",
    "df1.iloc[2:3,3:4]=rmse_lr\n",
    "df1"
   ]
  },
  {
   "cell_type": "markdown",
   "metadata": {},
   "source": [
    "Table 2"
   ]
  },
  {
   "cell_type": "code",
   "execution_count": 59,
   "metadata": {},
   "outputs": [
    {
     "data": {
      "text/html": [
       "<div>\n",
       "<style scoped>\n",
       "    .dataframe tbody tr th:only-of-type {\n",
       "        vertical-align: middle;\n",
       "    }\n",
       "\n",
       "    .dataframe tbody tr th {\n",
       "        vertical-align: top;\n",
       "    }\n",
       "\n",
       "    .dataframe thead th {\n",
       "        text-align: right;\n",
       "    }\n",
       "</style>\n",
       "<table border=\"1\" class=\"dataframe\">\n",
       "  <thead>\n",
       "    <tr style=\"text-align: right;\">\n",
       "      <th></th>\n",
       "      <th>R_Square</th>\n",
       "      <th>MAE</th>\n",
       "      <th>MSE</th>\n",
       "      <th>RMSE</th>\n",
       "    </tr>\n",
       "  </thead>\n",
       "  <tbody>\n",
       "    <tr>\n",
       "      <th>KNN</th>\n",
       "      <td>NaN</td>\n",
       "      <td>NaN</td>\n",
       "      <td>NaN</td>\n",
       "      <td>NaN</td>\n",
       "    </tr>\n",
       "    <tr>\n",
       "      <th>SVM</th>\n",
       "      <td>NaN</td>\n",
       "      <td>NaN</td>\n",
       "      <td>NaN</td>\n",
       "      <td>NaN</td>\n",
       "    </tr>\n",
       "    <tr>\n",
       "      <th>LR</th>\n",
       "      <td>NaN</td>\n",
       "      <td>NaN</td>\n",
       "      <td>NaN</td>\n",
       "      <td>NaN</td>\n",
       "    </tr>\n",
       "  </tbody>\n",
       "</table>\n",
       "</div>"
      ],
      "text/plain": [
       "    R_Square  MAE  MSE RMSE\n",
       "KNN      NaN  NaN  NaN  NaN\n",
       "SVM      NaN  NaN  NaN  NaN\n",
       "LR       NaN  NaN  NaN  NaN"
      ]
     },
     "execution_count": 59,
     "metadata": {},
     "output_type": "execute_result"
    }
   ],
   "source": [
    "df2=pd.DataFrame(columns=['R_Square','MAE','MSE','RMSE'],index=['KNN','SVM','LR'])\n",
    "df2"
   ]
  },
  {
   "cell_type": "code",
   "execution_count": 60,
   "metadata": {},
   "outputs": [
    {
     "data": {
      "text/html": [
       "<div>\n",
       "<style scoped>\n",
       "    .dataframe tbody tr th:only-of-type {\n",
       "        vertical-align: middle;\n",
       "    }\n",
       "\n",
       "    .dataframe tbody tr th {\n",
       "        vertical-align: top;\n",
       "    }\n",
       "\n",
       "    .dataframe thead th {\n",
       "        text-align: right;\n",
       "    }\n",
       "</style>\n",
       "<table border=\"1\" class=\"dataframe\">\n",
       "  <thead>\n",
       "    <tr style=\"text-align: right;\">\n",
       "      <th></th>\n",
       "      <th>R_Square</th>\n",
       "      <th>MAE</th>\n",
       "      <th>MSE</th>\n",
       "      <th>RMSE</th>\n",
       "    </tr>\n",
       "  </thead>\n",
       "  <tbody>\n",
       "    <tr>\n",
       "      <th>KNN</th>\n",
       "      <td>0.832288</td>\n",
       "      <td>0.270984</td>\n",
       "      <td>0.174374</td>\n",
       "      <td>0.417582</td>\n",
       "    </tr>\n",
       "    <tr>\n",
       "      <th>SVM</th>\n",
       "      <td>0.859359</td>\n",
       "      <td>0.236108</td>\n",
       "      <td>0.146228</td>\n",
       "      <td>0.382398</td>\n",
       "    </tr>\n",
       "    <tr>\n",
       "      <th>LR</th>\n",
       "      <td>0.812834</td>\n",
       "      <td>0.321498</td>\n",
       "      <td>0.194602</td>\n",
       "      <td>0.441137</td>\n",
       "    </tr>\n",
       "  </tbody>\n",
       "</table>\n",
       "</div>"
      ],
      "text/plain": [
       "     R_Square       MAE       MSE      RMSE\n",
       "KNN  0.832288  0.270984  0.174374  0.417582\n",
       "SVM  0.859359  0.236108  0.146228  0.382398\n",
       "LR   0.812834  0.321498  0.194602  0.441137"
      ]
     },
     "execution_count": 60,
     "metadata": {},
     "output_type": "execute_result"
    }
   ],
   "source": [
    "df2.iloc[0:1,0]=adj_rsquare_score2_knn\n",
    "df2.iloc[1:2,0]=adj_rsquare_score2_svr\n",
    "df2.iloc[2:3,0]=adj_rsquare_score2_lr\n",
    "df2.iloc[0:1,1:2]=mae2_knn\n",
    "df2.iloc[1:2,1:2]=mae2_svr\n",
    "df2.iloc[2:3,1:2]=mae2_lr\n",
    "df2.iloc[0:1,2:3]=mse2_knn\n",
    "df2.iloc[1:2,2:3]=mse2_svr\n",
    "df2.iloc[2:3,2:3]=mse2_lr\n",
    "df2.iloc[0:1,3:4]=rmse2_knn\n",
    "df2.iloc[1:2,3:4]=rmse2_svr\n",
    "df2.iloc[2:3,3:4]=rmse2_lr\n",
    "df2"
   ]
  },
  {
   "cell_type": "markdown",
   "metadata": {},
   "source": [
    "Table 3"
   ]
  },
  {
   "cell_type": "code",
   "execution_count": 61,
   "metadata": {},
   "outputs": [
    {
     "data": {
      "text/html": [
       "<div>\n",
       "<style scoped>\n",
       "    .dataframe tbody tr th:only-of-type {\n",
       "        vertical-align: middle;\n",
       "    }\n",
       "\n",
       "    .dataframe tbody tr th {\n",
       "        vertical-align: top;\n",
       "    }\n",
       "\n",
       "    .dataframe thead th {\n",
       "        text-align: right;\n",
       "    }\n",
       "</style>\n",
       "<table border=\"1\" class=\"dataframe\">\n",
       "  <thead>\n",
       "    <tr style=\"text-align: right;\">\n",
       "      <th></th>\n",
       "      <th>R_Square</th>\n",
       "      <th>MAE</th>\n",
       "      <th>MSE</th>\n",
       "      <th>RMSE</th>\n",
       "    </tr>\n",
       "  </thead>\n",
       "  <tbody>\n",
       "    <tr>\n",
       "      <th>KNN</th>\n",
       "      <td>NaN</td>\n",
       "      <td>NaN</td>\n",
       "      <td>NaN</td>\n",
       "      <td>NaN</td>\n",
       "    </tr>\n",
       "    <tr>\n",
       "      <th>SVM</th>\n",
       "      <td>NaN</td>\n",
       "      <td>NaN</td>\n",
       "      <td>NaN</td>\n",
       "      <td>NaN</td>\n",
       "    </tr>\n",
       "    <tr>\n",
       "      <th>LR</th>\n",
       "      <td>NaN</td>\n",
       "      <td>NaN</td>\n",
       "      <td>NaN</td>\n",
       "      <td>NaN</td>\n",
       "    </tr>\n",
       "  </tbody>\n",
       "</table>\n",
       "</div>"
      ],
      "text/plain": [
       "    R_Square  MAE  MSE RMSE\n",
       "KNN      NaN  NaN  NaN  NaN\n",
       "SVM      NaN  NaN  NaN  NaN\n",
       "LR       NaN  NaN  NaN  NaN"
      ]
     },
     "execution_count": 61,
     "metadata": {},
     "output_type": "execute_result"
    }
   ],
   "source": [
    "df3=pd.DataFrame(columns=['R_Square','MAE','MSE','RMSE'],index=['KNN','SVM','LR'])\n",
    "df3"
   ]
  },
  {
   "cell_type": "code",
   "execution_count": 62,
   "metadata": {},
   "outputs": [
    {
     "data": {
      "text/html": [
       "<div>\n",
       "<style scoped>\n",
       "    .dataframe tbody tr th:only-of-type {\n",
       "        vertical-align: middle;\n",
       "    }\n",
       "\n",
       "    .dataframe tbody tr th {\n",
       "        vertical-align: top;\n",
       "    }\n",
       "\n",
       "    .dataframe thead th {\n",
       "        text-align: right;\n",
       "    }\n",
       "</style>\n",
       "<table border=\"1\" class=\"dataframe\">\n",
       "  <thead>\n",
       "    <tr style=\"text-align: right;\">\n",
       "      <th></th>\n",
       "      <th>R_Square</th>\n",
       "      <th>MAE</th>\n",
       "      <th>MSE</th>\n",
       "      <th>RMSE</th>\n",
       "    </tr>\n",
       "  </thead>\n",
       "  <tbody>\n",
       "    <tr>\n",
       "      <th>KNN</th>\n",
       "      <td>0.768597</td>\n",
       "      <td>0.280081</td>\n",
       "      <td>0.201297</td>\n",
       "      <td>0.448661</td>\n",
       "    </tr>\n",
       "    <tr>\n",
       "      <th>SVM</th>\n",
       "      <td>0.806878</td>\n",
       "      <td>0.260724</td>\n",
       "      <td>0.167996</td>\n",
       "      <td>0.409873</td>\n",
       "    </tr>\n",
       "    <tr>\n",
       "      <th>LR</th>\n",
       "      <td>0.680088</td>\n",
       "      <td>0.359552</td>\n",
       "      <td>0.278291</td>\n",
       "      <td>0.527532</td>\n",
       "    </tr>\n",
       "  </tbody>\n",
       "</table>\n",
       "</div>"
      ],
      "text/plain": [
       "     R_Square       MAE       MSE      RMSE\n",
       "KNN  0.768597  0.280081  0.201297  0.448661\n",
       "SVM  0.806878  0.260724  0.167996  0.409873\n",
       "LR   0.680088  0.359552  0.278291  0.527532"
      ]
     },
     "execution_count": 62,
     "metadata": {},
     "output_type": "execute_result"
    }
   ],
   "source": [
    "df3.iloc[0:1,0]=adj_rsquare_score3_knn\n",
    "df3.iloc[1:2,0]=adj_rsquare_score3_svr\n",
    "df3.iloc[2:3,0]=adj_rsquare_score3_lr\n",
    "df3.iloc[0:1,1:2]=mae3_knn\n",
    "df3.iloc[1:2,1:2]=mae3_svr\n",
    "df3.iloc[2:3,1:2]=mae3_lr\n",
    "df3.iloc[0:1,2:3]=mse3_knn\n",
    "df3.iloc[1:2,2:3]=mse3_svr\n",
    "df3.iloc[2:3,2:3]=mse3_lr\n",
    "df3.iloc[0:1,3:4]=rmse3_knn\n",
    "df3.iloc[1:2,3:4]=rmse3_svr\n",
    "df3.iloc[2:3,3:4]=rmse3_lr\n",
    "df3"
   ]
  },
  {
   "cell_type": "markdown",
   "metadata": {},
   "source": [
    "SVR with different Kernels"
   ]
  },
  {
   "cell_type": "code",
   "execution_count": 66,
   "metadata": {},
   "outputs": [],
   "source": [
    "svr_regressor1=SVR(kernel='sigmoid', gamma='auto')"
   ]
  },
  {
   "cell_type": "code",
   "execution_count": 67,
   "metadata": {},
   "outputs": [
    {
     "name": "stderr",
     "output_type": "stream",
     "text": [
      "c:\\Users\\adib-\\anaconda3\\lib\\site-packages\\sklearn\\utils\\validation.py:72: DataConversionWarning: A column-vector y was passed when a 1d array was expected. Please change the shape of y to (n_samples, ), for example using ravel().\n",
      "  return f(**kwargs)\n"
     ]
    },
    {
     "data": {
      "text/plain": [
       "SVR(gamma='auto', kernel='sigmoid')"
      ]
     },
     "execution_count": 67,
     "metadata": {},
     "output_type": "execute_result"
    }
   ],
   "source": [
    "svr_regressor1.fit(X1_train,y1_train)"
   ]
  },
  {
   "cell_type": "code",
   "execution_count": 69,
   "metadata": {},
   "outputs": [
    {
     "data": {
      "text/plain": [
       "array([ 2.68058909,  7.29976654, -0.98552708,  2.46835883, -1.21309584,\n",
       "       -1.49923789,  0.89677426, 10.64105254,  2.38035587, 14.02978571,\n",
       "        4.72870328,  2.74056627,  6.00166853,  2.71305154,  1.5887788 ,\n",
       "       -1.10537954, -0.06741518, -2.16153781,  2.39051734,  0.3902254 ,\n",
       "        4.63189279, -1.13271241, -0.96478698,  1.7655843 ,  3.09588168,\n",
       "       -0.55188638, -0.61925965, -1.79124735,  0.9065132 ,  0.78991452,\n",
       "        2.51163774,  1.97677126,  5.75931563,  7.84735496,  2.66457833,\n",
       "        1.60254916, -0.3339998 , -0.5328118 , -0.54019249,  3.92987848,\n",
       "        3.74939146,  0.14665113, -1.0792303 , -0.90217772,  0.07974592,\n",
       "        1.59911992, -1.27131124, -1.38621072, -2.86122026,  1.54594913,\n",
       "        1.53850928,  2.92771808,  1.93536086, -1.16591727, -2.46949383,\n",
       "       -0.91990368, -2.32649635, -2.96680723, -3.54033463, -4.67841541,\n",
       "       -3.82126404,  1.32530442, -1.62721907, -4.96047552, -6.21387745,\n",
       "       -4.55539132, -5.67934149, -4.96218066, -4.50557338, -1.75544603,\n",
       "       -0.4322954 , -2.99331347,  1.96423492, -2.66073593, -4.60547018,\n",
       "       -6.56941825, -5.97534514, -5.55524734, -6.91636054, -5.71525911,\n",
       "       -5.61352956, -5.15669172, -5.92932565,  1.44157409,  3.87734248,\n",
       "        6.14095711,  1.30012792, -0.30481006, -1.92320099, -1.47254285,\n",
       "       -2.11434727, -3.34021352, -2.12379624, -1.54863859, -2.66518789,\n",
       "       -1.83141125,  0.32946169, -0.72863525,  0.96152104,  0.65462564,\n",
       "       -0.82772977])"
      ]
     },
     "execution_count": 69,
     "metadata": {},
     "output_type": "execute_result"
    }
   ],
   "source": [
    "svr_regressor1.predict(X1_test)"
   ]
  },
  {
   "cell_type": "code",
   "execution_count": 72,
   "metadata": {},
   "outputs": [
    {
     "data": {
      "text/plain": [
       "-52.046854814555495"
      ]
     },
     "execution_count": 72,
     "metadata": {},
     "output_type": "execute_result"
    }
   ],
   "source": [
    "svr_regressor1.score(X1_test,y1_test)"
   ]
  },
  {
   "cell_type": "code",
   "execution_count": 76,
   "metadata": {},
   "outputs": [],
   "source": [
    "svr_regressor2=SVR(kernel='linear',gamma='auto')"
   ]
  },
  {
   "cell_type": "code",
   "execution_count": 77,
   "metadata": {},
   "outputs": [
    {
     "name": "stderr",
     "output_type": "stream",
     "text": [
      "c:\\Users\\adib-\\anaconda3\\lib\\site-packages\\sklearn\\utils\\validation.py:72: DataConversionWarning: A column-vector y was passed when a 1d array was expected. Please change the shape of y to (n_samples, ), for example using ravel().\n",
      "  return f(**kwargs)\n"
     ]
    },
    {
     "data": {
      "text/plain": [
       "SVR(gamma='auto', kernel='linear')"
      ]
     },
     "execution_count": 77,
     "metadata": {},
     "output_type": "execute_result"
    }
   ],
   "source": [
    "svr_regressor2.fit(X1_train,y1_train)"
   ]
  },
  {
   "cell_type": "code",
   "execution_count": 78,
   "metadata": {},
   "outputs": [
    {
     "data": {
      "text/plain": [
       "array([-2.1591036 , -2.34874531, -0.79015323, -1.09381441, -0.243711  ,\n",
       "       -1.70533238, -0.5457629 , -2.54531566, -1.81402047, -3.22647473,\n",
       "       -1.05388065, -0.51983259, -1.86488804, -2.33578149, -0.35007381,\n",
       "       -0.31162156, -0.53484109, -0.85487826, -0.89125451, -1.11043219,\n",
       "       -1.29231125, -0.87120576, -1.16431366, -0.67702806, -0.74570805,\n",
       "       -0.51860497, -0.27660837, -0.22250958, -0.38329764, -0.71782903,\n",
       "       -0.54925153, -0.652517  , -1.1641763 , -1.40089529, -0.9957787 ,\n",
       "       -1.09485446, -0.36508241, -0.34008902, -0.29454139, -1.06436182,\n",
       "       -0.73040371, -0.3489676 , -0.40953265, -0.49721839, -0.38418058,\n",
       "       -0.30366525, -0.09079769, -0.29396516,  0.4403845 , -0.42771879,\n",
       "       -0.39645315, -0.88503157, -0.9256398 , -0.41498985, -0.41503858,\n",
       "       -0.07869474, -0.13298709, -0.21025585,  0.02143407, -0.24169469,\n",
       "       -0.50434789, -0.8314811 , -0.66869591, -0.78131647, -0.71334677,\n",
       "       -0.35468201, -0.23551821, -0.03797925,  0.46554855, -1.06881249,\n",
       "       -0.67023513, -0.16823609, -1.47497721, -0.50089251, -0.36229719,\n",
       "       -0.13184836,  0.30255967,  0.54404642, -0.39278777, -0.37797035,\n",
       "       -0.04304743, -0.41932852, -0.33027419, -1.35751387, -1.60736054,\n",
       "       -2.03232545, -0.98842131, -0.81651403, -0.35217884, -0.18821219,\n",
       "       -0.47591353, -0.95292266, -0.45399297, -0.18822196, -0.61840937,\n",
       "       -0.28346403,  0.21729535, -0.1322923 ,  0.56440452,  0.38708352,\n",
       "       -0.20241225])"
      ]
     },
     "execution_count": 78,
     "metadata": {},
     "output_type": "execute_result"
    }
   ],
   "source": [
    "svr_regressor2.predict(X1_test)"
   ]
  },
  {
   "cell_type": "code",
   "execution_count": 81,
   "metadata": {},
   "outputs": [
    {
     "data": {
      "text/plain": [
       "0.024754008379631487"
      ]
     },
     "execution_count": 81,
     "metadata": {},
     "output_type": "execute_result"
    }
   ],
   "source": [
    "svr_regressor2.score(X1_test,y1_test)"
   ]
  },
  {
   "cell_type": "code",
   "execution_count": 82,
   "metadata": {},
   "outputs": [],
   "source": [
    "svr_regressor3=SVR(kernel='poly',gamma='auto')"
   ]
  },
  {
   "cell_type": "code",
   "execution_count": 83,
   "metadata": {},
   "outputs": [
    {
     "name": "stderr",
     "output_type": "stream",
     "text": [
      "c:\\Users\\adib-\\anaconda3\\lib\\site-packages\\sklearn\\utils\\validation.py:72: DataConversionWarning: A column-vector y was passed when a 1d array was expected. Please change the shape of y to (n_samples, ), for example using ravel().\n",
      "  return f(**kwargs)\n"
     ]
    },
    {
     "data": {
      "text/plain": [
       "SVR(gamma='auto', kernel='poly')"
      ]
     },
     "execution_count": 83,
     "metadata": {},
     "output_type": "execute_result"
    }
   ],
   "source": [
    "svr_regressor3.fit(X1_train,y1_train)"
   ]
  },
  {
   "cell_type": "code",
   "execution_count": 84,
   "metadata": {},
   "outputs": [
    {
     "data": {
      "text/plain": [
       "array([-1.81792971, -1.27838982,  0.07722458, -0.65400642,  0.23818524,\n",
       "        4.93592973,  0.81318565, -2.72795393, -0.00864818, -2.24714306,\n",
       "       -0.47182174,  0.13614582, -1.08371975,  5.01535447,  0.38758422,\n",
       "       -0.43562609, -0.42341498,  0.02630507,  0.02356535,  0.78504354,\n",
       "       -0.38323326,  1.14205891,  2.49121519, -0.10540384, -0.25851712,\n",
       "        0.57259872,  0.54205627,  0.94195287,  0.43648951,  0.53045117,\n",
       "       -0.37089747,  0.74752827, -0.85301433, -2.12318297, -1.43059281,\n",
       "       -1.80572683, -1.14522492, -0.78427582, -1.10359669, -1.36246753,\n",
       "       -0.29437709, -0.64665496, -0.93409975, -1.01513855, -0.71563258,\n",
       "        0.91790399, -0.68300965, -0.72797318, -0.73993887,  0.69508406,\n",
       "        0.41366804, -0.0103278 ,  0.40902624, -0.40924849, -0.62675967,\n",
       "       -0.2064262 , -0.4973731 , -0.56684866, -0.24277961, -0.41300641,\n",
       "       -0.24233017,  0.26929659, -0.52971487, -0.5994139 , -0.35641548,\n",
       "       -0.4096574 , -0.16461251, -0.31103982, -0.19956018, -0.41002338,\n",
       "       -0.58473082, -0.59331312, -0.9531013 , -0.61899854, -0.36642147,\n",
       "       -0.12952365, -0.07455629, -0.09579608, -0.05266504, -0.22132673,\n",
       "       -0.15634073, -0.4190928 , -0.07660855, -2.19297269, -3.07602578,\n",
       "       -4.35164486, -1.68337148, -1.10996331, -0.1298862 , -0.10471506,\n",
       "       -0.1249908 , -0.12361739, -0.13935882, -0.12033959, -0.16267545,\n",
       "       -0.14100269, -0.12369607, -0.21465736,  0.0472339 , -0.05174453,\n",
       "       -0.23431845])"
      ]
     },
     "execution_count": 84,
     "metadata": {},
     "output_type": "execute_result"
    }
   ],
   "source": [
    "svr_regressor3.predict(X1_test)"
   ]
  },
  {
   "cell_type": "code",
   "execution_count": 85,
   "metadata": {},
   "outputs": [
    {
     "data": {
      "text/plain": [
       "-4.315496885243174"
      ]
     },
     "execution_count": 85,
     "metadata": {},
     "output_type": "execute_result"
    }
   ],
   "source": [
    "svr_regressor3.score(X1_test,y1_test)"
   ]
  },
  {
   "cell_type": "markdown",
   "metadata": {},
   "source": [
    "Bonus Assignment (KFold)"
   ]
  },
  {
   "cell_type": "code",
   "execution_count": 63,
   "metadata": {},
   "outputs": [
    {
     "data": {
      "text/plain": [
       "KFold(n_splits=5, random_state=None, shuffle=False)"
      ]
     },
     "execution_count": 63,
     "metadata": {},
     "output_type": "execute_result"
    }
   ],
   "source": [
    "from sklearn.model_selection import KFold\n",
    "kf=KFold(n_splits=5)\n",
    "kf"
   ]
  },
  {
   "cell_type": "code",
   "execution_count": 86,
   "metadata": {},
   "outputs": [],
   "source": [
    "scores_knn=[]\n",
    "scores_svr=[]\n",
    "scores_lr=[]\n",
    "\n",
    "for train_index,test_index in kf.split(X):\n",
    "    X1_train,X1_test,y1_train,y1_test=X[train_index],X[test_index],y[train_index],y[test_index]\n",
    "    scores_knn.append(neigh.score(X1_test,y1_test))\n",
    "    scores_svr.append(svr_regressor.score(X1_test,y1_test))\n",
    "    scores_lr.append(LinearRegressor.score(X1_test,y1_test))\n"
   ]
  },
  {
   "cell_type": "code",
   "execution_count": 88,
   "metadata": {},
   "outputs": [
    {
     "data": {
      "text/plain": [
       "([0.8583248081980235,\n",
       "  0.8510096250759368,\n",
       "  0.8161535188655009,\n",
       "  0.6264747644198606,\n",
       "  0.7046653409894914],\n",
       " [0.7194703986892896,\n",
       "  0.8151040532953615,\n",
       "  0.7757495076292645,\n",
       "  0.4192510331246385,\n",
       "  0.37964004185484723],\n",
       " [0.8977047479945905,\n",
       "  0.9229999748859947,\n",
       "  0.926861031751698,\n",
       "  0.6979094767317175,\n",
       "  0.6844558189544709])"
      ]
     },
     "execution_count": 88,
     "metadata": {},
     "output_type": "execute_result"
    }
   ],
   "source": [
    "scores_knn,scores_lr,scores_svr"
   ]
  }
 ],
 "metadata": {
  "interpreter": {
   "hash": "4f77cdfaf4507c9d7563b1dafbbefd1211a5ec1bc40dd9ff43d298279ac97956"
  },
  "kernelspec": {
   "display_name": "Python 3.8.5 ('base')",
   "language": "python",
   "name": "python3"
  },
  "language_info": {
   "codemirror_mode": {
    "name": "ipython",
    "version": 3
   },
   "file_extension": ".py",
   "mimetype": "text/x-python",
   "name": "python",
   "nbconvert_exporter": "python",
   "pygments_lexer": "ipython3",
   "version": "3.9.12"
  }
 },
 "nbformat": 4,
 "nbformat_minor": 4
}
