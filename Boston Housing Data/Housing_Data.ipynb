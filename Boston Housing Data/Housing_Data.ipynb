{
 "cells": [
  {
   "cell_type": "code",
   "execution_count": null,
   "metadata": {},
   "outputs": [],
   "source": [
    "import pandas as pd\n",
    "import numpy as np\n"
   ]
  },
  {
   "cell_type": "code",
   "execution_count": null,
   "metadata": {},
   "outputs": [],
   "source": [
    "df=pd.read_csv(\"C:/Users/adib-/Downloads/housing.csv\",delim_whitespace=True, header=None)\n",
    "df"
   ]
  },
  {
   "cell_type": "code",
   "execution_count": null,
   "metadata": {},
   "outputs": [],
   "source": [
    "df.columns"
   ]
  },
  {
   "cell_type": "code",
   "execution_count": null,
   "metadata": {},
   "outputs": [],
   "source": [
    "df.columns=['CRIM','ZN','INDUS','CHAS','NOX','RM','AGE','DIS','RAD','TAX','PTRATIO','B','LSTAT','MEDV']"
   ]
  },
  {
   "cell_type": "code",
   "execution_count": null,
   "metadata": {},
   "outputs": [],
   "source": [
    "df.describe()"
   ]
  },
  {
   "cell_type": "code",
   "execution_count": null,
   "metadata": {},
   "outputs": [],
   "source": [
    "df.isna().sum() #No Null values"
   ]
  },
  {
   "cell_type": "code",
   "execution_count": null,
   "metadata": {},
   "outputs": [],
   "source": [
    "# Only these two variable are categorical in nature\n",
    "# df['CHAS'].unique()\n",
    "df['RAD'].unique()\n"
   ]
  },
  {
   "cell_type": "code",
   "execution_count": null,
   "metadata": {},
   "outputs": [],
   "source": [
    "import seaborn as sns\n",
    "import matplotlib.pyplot as plt"
   ]
  },
  {
   "cell_type": "code",
   "execution_count": null,
   "metadata": {},
   "outputs": [],
   "source": [
    "    for k, v in df.items():\n",
    "        q1 = v.quantile(0.25)\n",
    "        q3 = v.quantile(0.75)\n",
    "        irq = q3 - q1\n",
    "        v_col = v[(v <= q1 - 1.5 * irq) | (v >= q3 + 1.5 * irq)]\n",
    "        perc = np.shape(v_col)[0] * 100.0 / np.shape(df)[0]\n",
    "        print(\"%s outliers = %.2f%%\" % (k, perc))"
   ]
  },
  {
   "cell_type": "code",
   "execution_count": null,
   "metadata": {},
   "outputs": [],
   "source": [
    "sns.boxplot(data=df).set(title=\"Box Plot of Scores\")\n",
    "plt.tight_layout()\n",
    "plt.show()"
   ]
  },
  {
   "cell_type": "code",
   "execution_count": null,
   "metadata": {},
   "outputs": [],
   "source": [
    "# Two way distribution & concentration of our dependent variable & TAX variable (X)\n",
    "sns.jointplot(x='B',y='MEDV',data=df,kind='kde',color='m')\n",
    "plt.show()"
   ]
  },
  {
   "cell_type": "code",
   "execution_count": null,
   "metadata": {},
   "outputs": [],
   "source": [
    "print('Hello')"
   ]
  },
  {
   "cell_type": "code",
   "execution_count": null,
   "metadata": {},
   "outputs": [],
   "source": [
    "sns.set(rc={'figure.figsize':(20.7,18.27)})\n",
    "sns.pairplot(df, x_vars=df.columns,y_vars=['MEDV'])\n",
    "\n",
    "\n",
    "\n"
   ]
  },
  {
   "cell_type": "code",
   "execution_count": null,
   "metadata": {},
   "outputs": [],
   "source": [
    "gcf=sns.heatmap(df.corr(),annot=True)\n",
    "\n",
    "fig=plt.gcf()\n",
    "fig.set_size_inches(12,6)\n",
    "plt.title('Correlation Heatmap')\n",
    "plt.show()\n",
    "\n",
    "# Showing the correlation between each variables"
   ]
  },
  {
   "cell_type": "code",
   "execution_count": null,
   "metadata": {},
   "outputs": [],
   "source": [
    "X=df.drop(columns='MEDV')\n",
    "X"
   ]
  },
  {
   "cell_type": "code",
   "execution_count": null,
   "metadata": {},
   "outputs": [],
   "source": [
    "y=df['MEDV']"
   ]
  },
  {
   "cell_type": "code",
   "execution_count": null,
   "metadata": {},
   "outputs": [],
   "source": [
    "from sklearn.preprocessing import StandardScaler\n",
    "import numpy as np"
   ]
  },
  {
   "cell_type": "code",
   "execution_count": null,
   "metadata": {},
   "outputs": [],
   "source": [
    "scale_X=StandardScaler()\n",
    "scale_y=StandardScaler()\n",
    "\n",
    "X=scale_X.fit_transform(X)\n",
    "y=scale_y.fit_transform(y.values.reshape(-1,1))"
   ]
  },
  {
   "cell_type": "code",
   "execution_count": null,
   "metadata": {},
   "outputs": [],
   "source": [
    "y.shape"
   ]
  },
  {
   "cell_type": "markdown",
   "metadata": {},
   "source": [
    "# Decision Tree Regressor"
   ]
  },
  {
   "cell_type": "code",
   "execution_count": null,
   "metadata": {},
   "outputs": [],
   "source": [
    "#Train-Test Split:\n",
    "from sklearn.model_selection import train_test_split\n",
    "X_train,X_test,y_train,y_test=train_test_split(X,y,test_size=0.3)"
   ]
  },
  {
   "cell_type": "markdown",
   "metadata": {},
   "source": []
  },
  {
   "cell_type": "code",
   "execution_count": null,
   "metadata": {},
   "outputs": [],
   "source": [
    "from sklearn.tree import DecisionTreeRegressor\n",
    "dtr=DecisionTreeRegressor(max_depth=3, random_state=1)\n",
    "dtr.fit(X_train, y_train)\n",
    "dtr.predict(X_test)"
   ]
  },
  {
   "cell_type": "code",
   "execution_count": null,
   "metadata": {},
   "outputs": [],
   "source": [
    "from sklearn import tree"
   ]
  },
  {
   "cell_type": "code",
   "execution_count": null,
   "metadata": {},
   "outputs": [],
   "source": [
    "fig=plt.figure(figsize=(25,20))\n",
    "tree.plot_tree(dtr,feature_names=df.columns, filled=True)\n",
    "plt.title('Decision Tree Regression Boston Housing\\nMax Depth=3',fontsize=30)"
   ]
  },
  {
   "cell_type": "code",
   "execution_count": null,
   "metadata": {},
   "outputs": [],
   "source": [
    "dtr1=DecisionTreeRegressor(random_state=1)\n",
    "dtr1.fit(X_train, y_train)\n",
    "dtr1.predict(X_test)\n",
    "fig=plt.figure(figsize=(25,20))\n",
    "tree.plot_tree(dtr1,feature_names=df.columns, filled=True)\n",
    "plt.title('Decision Tree Regression Boston Housing\\nNo Depth',fontsize=30)"
   ]
  },
  {
   "cell_type": "code",
   "execution_count": null,
   "metadata": {},
   "outputs": [],
   "source": [
    "from sklearn.neighbors import KNeighborsRegressor\n",
    "\n",
    "accuracy_rate=[]\n",
    "for i in range(1,20):\n",
    "    neigh=KNeighborsRegressor(n_neighbors=i)\n",
    "    neigh.fit(X_train,y_train)\n",
    "    neigh.predict(X_test)\n",
    "    accuracy_rate.append(neigh.score(X_test,y_test))"
   ]
  },
  {
   "cell_type": "code",
   "execution_count": null,
   "metadata": {},
   "outputs": [],
   "source": [
    "accuracy_rate"
   ]
  },
  {
   "cell_type": "code",
   "execution_count": null,
   "metadata": {},
   "outputs": [],
   "source": [
    "plt.figure(figsize=(10,6))\n",
    "plt.plot(range(1,20),accuracy_rate,color='blue',linestyle='dashed',marker='o',markerfacecolor='red',markersize=10)\n",
    "plt.title('Accuracy Rate\\nK-value')\n",
    "plt.xlabel('K')\n",
    "plt.ylabel('Accuracy_Rate')\n",
    "plt.show()"
   ]
  },
  {
   "cell_type": "code",
   "execution_count": null,
   "metadata": {},
   "outputs": [],
   "source": [
    "accuracy_rate1=[]\n",
    "for i in range(1,20):\n",
    "    neigh1=KNeighborsRegressor(n_neighbors=i,weights='distance')\n",
    "    neigh1.fit(X_train,y_train)\n",
    "    neigh1.predict(X_test)\n",
    "    accuracy_rate1.append(neigh1.score(X_test,y_test))"
   ]
  },
  {
   "cell_type": "code",
   "execution_count": null,
   "metadata": {},
   "outputs": [],
   "source": [
    "accuracy_rate1"
   ]
  },
  {
   "cell_type": "code",
   "execution_count": null,
   "metadata": {},
   "outputs": [],
   "source": [
    "plt.figure(figsize=(10,6))\n",
    "plt.plot(range(1,20),accuracy_rate1,color='blue',linestyle='dashed',marker='o',markerfacecolor='red',markersize=10)\n",
    "plt.title('Accuracy Rate\\nK-value with Distance Weights')\n",
    "plt.xlabel('K')\n",
    "plt.ylabel('Accuracy_Rate')\n",
    "plt.show()"
   ]
  },
  {
   "cell_type": "code",
   "execution_count": null,
   "metadata": {},
   "outputs": [],
   "source": [
    "from sklearn.linear_model import LinearRegression"
   ]
  },
  {
   "cell_type": "code",
   "execution_count": null,
   "metadata": {},
   "outputs": [],
   "source": [
    "lr=LinearRegression()\n",
    "lr.fit(X_train,y_train)"
   ]
  },
  {
   "cell_type": "code",
   "execution_count": null,
   "metadata": {},
   "outputs": [],
   "source": [
    "from sklearn.model_selection import KFold\n",
    "kf=KFold(n_splits=5)\n",
    "scores_knn=[]\n",
    "scores_dtr=[]\n",
    "scores_lr=[]\n",
    "\n",
    "for train_index,test_index in kf.split(X):\n",
    "    X_train,X_test,y_train,y_test=X[train_index],X[test_index],y[train_index],y[test_index]\n",
    "    scores_knn.append(neigh.score(X_test,y_test))\n",
    "    scores_dtr.append(dtr.score(X_test,y_test))\n",
    "    scores_lr.append(lr.score(X_test,y_test))"
   ]
  },
  {
   "cell_type": "code",
   "execution_count": null,
   "metadata": {},
   "outputs": [],
   "source": [
    "df2=pd.DataFrame((scores_knn,scores_dtr,scores_lr),index=['KNN','DTR','LR'],columns=['Fold 1','Fold 2','Fold 3','Fold 4','Fold 5'])\n",
    "df2"
   ]
  },
  {
   "cell_type": "code",
   "execution_count": null,
   "metadata": {},
   "outputs": [],
   "source": [
    "df2.plot.barh(subplots=True,rot=0)"
   ]
  },
  {
   "cell_type": "code",
   "execution_count": null,
   "metadata": {},
   "outputs": [],
   "source": [
    "neigh1=KNeighborsRegressor(n_neighbors=7)\n",
    "neigh1.fit(X_train,y_train)\n",
    "neigh1.predict(X_test)\n",
    "\n",
    "from sklearn.model_selection import KFold\n",
    "kf=KFold(n_splits=5)\n",
    "scores_knn1=[]\n",
    "scores_dtr1=[]\n",
    "scores_lr1=[]\n",
    "\n",
    "for train_index,test_index in kf.split(X):\n",
    "    X_train,X_test,y_train,y_test=X[train_index],X[test_index],y[train_index],y[test_index]\n",
    "    scores_knn1.append(neigh1.score(X_test,y_test))\n",
    "    scores_dtr1.append(dtr.score(X_test,y_test))\n",
    "    scores_lr1.append(lr.score(X_test,y_test))"
   ]
  },
  {
   "cell_type": "code",
   "execution_count": null,
   "metadata": {},
   "outputs": [],
   "source": [
    "df3=pd.DataFrame((scores_knn1,scores_dtr1,scores_lr1),index=['KNN','DTR','LR'],columns=['Fold 1','Fold 2','Fold 3','Fold 4','Fold 5'])\n",
    "df3.plot.barh(subplots=True,rot=0)"
   ]
  },
  {
   "cell_type": "markdown",
   "metadata": {},
   "source": [
    "## End of Assignment\n"
   ]
  },
  {
   "cell_type": "code",
   "execution_count": null,
   "metadata": {},
   "outputs": [],
   "source": [
    "# from sklearn.model_selection import train_test_split\n",
    "# X1_train,X1_test,y1_train,y1_test=train_test_split(X,y,test_size=0.3)\n",
    "# X2_train,X2_test,y2_train,y2_test=train_test_split(X,y,test_size=0.2)\n",
    "# X3_train,X3_test,y3_train,y3_test=train_test_split(X,y,test_size=0.25)\n"
   ]
  },
  {
   "cell_type": "code",
   "execution_count": null,
   "metadata": {},
   "outputs": [],
   "source": [
    "# from sklearn.neighbors import KNeighborsRegressor\n",
    "# neigh=KNeighborsRegressor(n_neighbors=5)"
   ]
  },
  {
   "cell_type": "code",
   "execution_count": null,
   "metadata": {},
   "outputs": [],
   "source": [
    "# neigh.fit(X1_train,y1_train)"
   ]
  },
  {
   "cell_type": "code",
   "execution_count": null,
   "metadata": {},
   "outputs": [],
   "source": [
    "# neigh.predict(X1_test)"
   ]
  },
  {
   "cell_type": "code",
   "execution_count": null,
   "metadata": {},
   "outputs": [],
   "source": [
    "neigh.score(X1_test,y1_test)"
   ]
  },
  {
   "cell_type": "code",
   "execution_count": null,
   "metadata": {},
   "outputs": [],
   "source": [
    "from sklearn.linear_model import LinearRegression\n",
    "LinearRegressor=LinearRegression()"
   ]
  },
  {
   "cell_type": "code",
   "execution_count": null,
   "metadata": {},
   "outputs": [],
   "source": [
    "LinearRegressor.fit(X1_train,y1_train)"
   ]
  },
  {
   "cell_type": "code",
   "execution_count": null,
   "metadata": {},
   "outputs": [],
   "source": [
    "LinearRegressor.predict(X1_test)"
   ]
  },
  {
   "cell_type": "code",
   "execution_count": null,
   "metadata": {},
   "outputs": [],
   "source": [
    "from sklearn.svm import SVR"
   ]
  },
  {
   "cell_type": "code",
   "execution_count": null,
   "metadata": {},
   "outputs": [],
   "source": [
    "svr_regressor = SVR(kernel='rbf', gamma='auto')\n",
    "svr_regressor.fit(X1_train, y1_train)"
   ]
  },
  {
   "cell_type": "code",
   "execution_count": null,
   "metadata": {},
   "outputs": [],
   "source": [
    "svr_regressor.predict(X1_test)"
   ]
  },
  {
   "cell_type": "code",
   "execution_count": null,
   "metadata": {},
   "outputs": [],
   "source": [
    "import matplotlib.pyplot as plt\n",
    "import math"
   ]
  },
  {
   "cell_type": "code",
   "execution_count": null,
   "metadata": {},
   "outputs": [],
   "source": [
    "from sklearn.metrics import mean_absolute_error,mean_squared_error,r2_score"
   ]
  },
  {
   "cell_type": "code",
   "execution_count": null,
   "metadata": {},
   "outputs": [],
   "source": [
    "svr_regressor.score(X1_test,y1_test)"
   ]
  },
  {
   "cell_type": "code",
   "execution_count": null,
   "metadata": {},
   "outputs": [],
   "source": [
    "#R2 Score\n",
    "rsquare_score_lr=r2_score(y1_test,LinearRegressor.predict(X1_test))\n",
    "rsquare_score_knn=r2_score(y1_test,neigh.predict(X1_test))\n",
    "rsquare_score_svr=r2_score(y1_test,svr_regressor.predict(X1_test))"
   ]
  },
  {
   "cell_type": "code",
   "execution_count": null,
   "metadata": {},
   "outputs": [],
   "source": [
    "rsquare_score_lr"
   ]
  },
  {
   "cell_type": "code",
   "execution_count": null,
   "metadata": {},
   "outputs": [],
   "source": [
    "rsquare_score_svr"
   ]
  },
  {
   "cell_type": "code",
   "execution_count": null,
   "metadata": {},
   "outputs": [],
   "source": [
    "#Adjusted R2 Square\n",
    "adj_rsquare_score_lr=1-(((1-rsquare_score_lr)*(len(df)-1))/(len(df)-len(df.columns)-1))\n",
    "adj_rsquare_score_knn=1-(((1-rsquare_score_knn)*(len(df)-1))/(len(df)-len(df.columns)-1))\n",
    "adj_rsquare_score_svr=1-(((1-rsquare_score_svr)*(len(df)-1))/(len(df)-len(df.columns)-1))\n"
   ]
  },
  {
   "cell_type": "code",
   "execution_count": null,
   "metadata": {},
   "outputs": [],
   "source": [
    "print(adj_rsquare_score_knn)\n",
    "print(adj_rsquare_score_svr)\n",
    "print(adj_rsquare_score_lr)"
   ]
  },
  {
   "cell_type": "code",
   "execution_count": null,
   "metadata": {},
   "outputs": [],
   "source": [
    "adj_rsquare_score_svr"
   ]
  },
  {
   "cell_type": "code",
   "execution_count": null,
   "metadata": {},
   "outputs": [],
   "source": [
    "#Mean Absolute Error\n",
    "mae_lr=mean_absolute_error(y1_test,LinearRegressor.predict(X1_test))\n",
    "mae_svr=mean_absolute_error(y1_test,svr_regressor.predict(X1_test))\n",
    "mae_knn=mean_absolute_error(y1_test,neigh.predict(X1_test))\n"
   ]
  },
  {
   "cell_type": "code",
   "execution_count": null,
   "metadata": {},
   "outputs": [],
   "source": [
    "#Mean Squared Error \n",
    "mse_lr=mean_squared_error(y1_test,LinearRegressor.predict(X1_test))\n",
    "mse_svr=mean_squared_error(y1_test,svr_regressor.predict(X1_test))\n",
    "mse_knn=mean_squared_error(y1_test,neigh.predict(X1_test))"
   ]
  },
  {
   "cell_type": "code",
   "execution_count": null,
   "metadata": {},
   "outputs": [],
   "source": [
    "mse_knn"
   ]
  },
  {
   "cell_type": "code",
   "execution_count": null,
   "metadata": {},
   "outputs": [],
   "source": [
    "#Root Mean Squared Error\n",
    "rmse_lr=math.sqrt(mse_lr)\n",
    "rmse_knn=math.sqrt(mse_knn)\n",
    "rmse_svr=math.sqrt(mse_svr)"
   ]
  },
  {
   "cell_type": "code",
   "execution_count": null,
   "metadata": {},
   "outputs": [],
   "source": [
    "#Second Model\n",
    "\n",
    "neigh.fit(X2_train,y2_train)\n",
    "svr_regressor.fit(X2_train, y2_train)\n",
    "LinearRegressor.fit(X2_train,y2_train)"
   ]
  },
  {
   "cell_type": "code",
   "execution_count": null,
   "metadata": {},
   "outputs": [],
   "source": [
    "#R2 Score-Second Model\n",
    "rsquare_score2_lr=r2_score(y2_test,LinearRegressor.predict(X2_test))\n",
    "rsquare_score2_knn=r2_score(y2_test,neigh.predict(X2_test))\n",
    "rsquare_score2_svr=r2_score(y2_test,svr_regressor.predict(X2_test))"
   ]
  },
  {
   "cell_type": "code",
   "execution_count": null,
   "metadata": {},
   "outputs": [],
   "source": [
    "#Adjusted R2 Square-Second Model\n",
    "adj_rsquare_score2_lr=1-(((1-rsquare_score2_lr)*(len(df)-1))/(len(df)-len(df.columns)-1))\n",
    "adj_rsquare_score2_knn=1-(((1-rsquare_score2_knn)*(len(df)-1))/(len(df)-len(df.columns)-1))\n",
    "adj_rsquare_score2_svr=1-(((1-rsquare_score2_svr)*(len(df)-1))/(len(df)-len(df.columns)-1))"
   ]
  },
  {
   "cell_type": "code",
   "execution_count": null,
   "metadata": {},
   "outputs": [],
   "source": [
    "#Mean Absolute Error-Second Model\n",
    "mae2_lr=mean_absolute_error(y2_test,LinearRegressor.predict(X2_test))\n",
    "mae2_svr=mean_absolute_error(y2_test,svr_regressor.predict(X2_test))\n",
    "mae2_knn=mean_absolute_error(y2_test,neigh.predict(X2_test))"
   ]
  },
  {
   "cell_type": "code",
   "execution_count": null,
   "metadata": {},
   "outputs": [],
   "source": [
    "#Mean Squared Error-Second Model\n",
    "mse2_lr=mean_squared_error(y2_test,LinearRegressor.predict(X2_test))\n",
    "mse2_svr=mean_squared_error(y2_test,svr_regressor.predict(X2_test))\n",
    "mse2_knn=mean_squared_error(y2_test,neigh.predict(X2_test))"
   ]
  },
  {
   "cell_type": "code",
   "execution_count": null,
   "metadata": {},
   "outputs": [],
   "source": [
    "#Root Mean Squared Error Second Model\n",
    "rmse2_lr=math.sqrt(mse2_lr)\n",
    "rmse2_knn=math.sqrt(mse2_knn)\n",
    "rmse2_svr=math.sqrt(mse2_svr)"
   ]
  },
  {
   "cell_type": "code",
   "execution_count": null,
   "metadata": {},
   "outputs": [],
   "source": [
    "#Third Model\n",
    "\n",
    "neigh.fit(X3_train,y3_train)\n",
    "svr_regressor.fit(X3_train, y3_train)\n",
    "LinearRegressor.fit(X3_train,y3_train)"
   ]
  },
  {
   "cell_type": "code",
   "execution_count": null,
   "metadata": {},
   "outputs": [],
   "source": [
    "#R2 Score-Third Model\n",
    "rsquare_score3_lr=r2_score(y3_test,LinearRegressor.predict(X3_test))\n",
    "rsquare_score3_knn=r2_score(y3_test,neigh.predict(X3_test))\n",
    "rsquare_score3_svr=r2_score(y3_test,svr_regressor.predict(X3_test))"
   ]
  },
  {
   "cell_type": "code",
   "execution_count": null,
   "metadata": {},
   "outputs": [],
   "source": [
    "#Adjusted R2 Square-Third Model\n",
    "adj_rsquare_score3_lr=1-(((1-rsquare_score3_lr)*(len(df)-1))/(len(df)-len(df.columns)-1))\n",
    "adj_rsquare_score3_knn=1-(((1-rsquare_score3_knn)*(len(df)-1))/(len(df)-len(df.columns)-1))\n",
    "adj_rsquare_score3_svr=1-(((1-rsquare_score3_svr)*(len(df)-1))/(len(df)-len(df.columns)-1))"
   ]
  },
  {
   "cell_type": "code",
   "execution_count": null,
   "metadata": {},
   "outputs": [],
   "source": [
    "#Mean Absolute Error-Third Model\n",
    "mae3_lr=mean_absolute_error(y3_test,LinearRegressor.predict(X3_test))\n",
    "mae3_svr=mean_absolute_error(y3_test,svr_regressor.predict(X3_test))\n",
    "mae3_knn=mean_absolute_error(y3_test,neigh.predict(X3_test))"
   ]
  },
  {
   "cell_type": "code",
   "execution_count": null,
   "metadata": {},
   "outputs": [],
   "source": [
    "#Mean Squared Error-Second Model\n",
    "mse3_lr=mean_squared_error(y3_test,LinearRegressor.predict(X3_test))\n",
    "mse3_svr=mean_squared_error(y3_test,svr_regressor.predict(X3_test))\n",
    "mse3_knn=mean_squared_error(y3_test,neigh.predict(X3_test))"
   ]
  },
  {
   "cell_type": "code",
   "execution_count": null,
   "metadata": {},
   "outputs": [],
   "source": [
    "#Root Mean Squared Error Model-Third Model\n",
    "rmse3_lr=math.sqrt(mse3_lr)\n",
    "rmse3_knn=math.sqrt(mse3_knn)\n",
    "rmse3_svr=math.sqrt(mse3_svr)"
   ]
  },
  {
   "cell_type": "markdown",
   "metadata": {},
   "source": [
    "Table 1"
   ]
  },
  {
   "cell_type": "code",
   "execution_count": null,
   "metadata": {},
   "outputs": [],
   "source": [
    "\n",
    "df1=pd.DataFrame(columns=['R_Square','MAE','MSE','RMSE'],index=['KNN','SVM','LR'])\n",
    "df1"
   ]
  },
  {
   "cell_type": "code",
   "execution_count": null,
   "metadata": {},
   "outputs": [],
   "source": [
    "df1.iloc[0:1,0]=adj_rsquare_score_knn\n",
    "df1.iloc[1:2,0]=adj_rsquare_score_svr\n",
    "df1.iloc[2:3,0]=adj_rsquare_score_lr\n",
    "df1.iloc[0:1,1:2]=mae_knn\n",
    "df1.iloc[1:2,1:2]=mae_svr\n",
    "df1.iloc[2:3,1:2]=mae_lr\n",
    "df1.iloc[0:1,2:3]=mse_knn\n",
    "df1.iloc[1:2,2:3]=mse_svr\n",
    "df1.iloc[2:3,2:3]=mse_lr\n",
    "df1.iloc[0:1,3:4]=rmse_knn\n",
    "df1.iloc[1:2,3:4]=rmse_svr\n",
    "df1.iloc[2:3,3:4]=rmse_lr\n",
    "df1"
   ]
  },
  {
   "cell_type": "markdown",
   "metadata": {},
   "source": [
    "Table 2"
   ]
  },
  {
   "cell_type": "code",
   "execution_count": null,
   "metadata": {},
   "outputs": [],
   "source": [
    "df2=pd.DataFrame(columns=['R_Square','MAE','MSE','RMSE'],index=['KNN','SVM','LR'])\n",
    "df2"
   ]
  },
  {
   "cell_type": "code",
   "execution_count": null,
   "metadata": {},
   "outputs": [],
   "source": [
    "df2.iloc[0:1,0]=adj_rsquare_score2_knn\n",
    "df2.iloc[1:2,0]=adj_rsquare_score2_svr\n",
    "df2.iloc[2:3,0]=adj_rsquare_score2_lr\n",
    "df2.iloc[0:1,1:2]=mae2_knn\n",
    "df2.iloc[1:2,1:2]=mae2_svr\n",
    "df2.iloc[2:3,1:2]=mae2_lr\n",
    "df2.iloc[0:1,2:3]=mse2_knn\n",
    "df2.iloc[1:2,2:3]=mse2_svr\n",
    "df2.iloc[2:3,2:3]=mse2_lr\n",
    "df2.iloc[0:1,3:4]=rmse2_knn\n",
    "df2.iloc[1:2,3:4]=rmse2_svr\n",
    "df2.iloc[2:3,3:4]=rmse2_lr\n",
    "df2"
   ]
  },
  {
   "cell_type": "markdown",
   "metadata": {},
   "source": [
    "Table 3"
   ]
  },
  {
   "cell_type": "code",
   "execution_count": null,
   "metadata": {},
   "outputs": [],
   "source": [
    "df3=pd.DataFrame(columns=['R_Square','MAE','MSE','RMSE'],index=['KNN','SVM','LR'])\n",
    "df3"
   ]
  },
  {
   "cell_type": "code",
   "execution_count": null,
   "metadata": {},
   "outputs": [],
   "source": [
    "df3.iloc[0:1,0]=adj_rsquare_score3_knn\n",
    "df3.iloc[1:2,0]=adj_rsquare_score3_svr\n",
    "df3.iloc[2:3,0]=adj_rsquare_score3_lr\n",
    "df3.iloc[0:1,1:2]=mae3_knn\n",
    "df3.iloc[1:2,1:2]=mae3_svr\n",
    "df3.iloc[2:3,1:2]=mae3_lr\n",
    "df3.iloc[0:1,2:3]=mse3_knn\n",
    "df3.iloc[1:2,2:3]=mse3_svr\n",
    "df3.iloc[2:3,2:3]=mse3_lr\n",
    "df3.iloc[0:1,3:4]=rmse3_knn\n",
    "df3.iloc[1:2,3:4]=rmse3_svr\n",
    "df3.iloc[2:3,3:4]=rmse3_lr\n",
    "df3"
   ]
  },
  {
   "cell_type": "markdown",
   "metadata": {},
   "source": [
    "SVR with different Kernels"
   ]
  },
  {
   "cell_type": "code",
   "execution_count": null,
   "metadata": {},
   "outputs": [],
   "source": [
    "svr_regressor1=SVR(kernel='sigmoid', gamma='auto')"
   ]
  },
  {
   "cell_type": "code",
   "execution_count": null,
   "metadata": {},
   "outputs": [],
   "source": [
    "svr_regressor1.fit(X1_train,y1_train)"
   ]
  },
  {
   "cell_type": "code",
   "execution_count": null,
   "metadata": {},
   "outputs": [],
   "source": [
    "svr_regressor1.predict(X1_test)"
   ]
  },
  {
   "cell_type": "code",
   "execution_count": null,
   "metadata": {},
   "outputs": [],
   "source": [
    "svr_regressor1.score(X1_test,y1_test)"
   ]
  },
  {
   "cell_type": "code",
   "execution_count": null,
   "metadata": {},
   "outputs": [],
   "source": [
    "svr_regressor2=SVR(kernel='linear',gamma='auto')"
   ]
  },
  {
   "cell_type": "code",
   "execution_count": null,
   "metadata": {},
   "outputs": [],
   "source": [
    "svr_regressor2.fit(X1_train,y1_train)"
   ]
  },
  {
   "cell_type": "code",
   "execution_count": null,
   "metadata": {},
   "outputs": [],
   "source": [
    "svr_regressor2.predict(X1_test)"
   ]
  },
  {
   "cell_type": "code",
   "execution_count": null,
   "metadata": {},
   "outputs": [],
   "source": [
    "svr_regressor2.score(X1_test,y1_test)"
   ]
  },
  {
   "cell_type": "code",
   "execution_count": null,
   "metadata": {},
   "outputs": [],
   "source": [
    "svr_regressor3=SVR(kernel='poly',gamma='auto')"
   ]
  },
  {
   "cell_type": "code",
   "execution_count": null,
   "metadata": {},
   "outputs": [],
   "source": [
    "svr_regressor3.fit(X1_train,y1_train)"
   ]
  },
  {
   "cell_type": "code",
   "execution_count": null,
   "metadata": {},
   "outputs": [],
   "source": [
    "svr_regressor3.predict(X1_test)"
   ]
  },
  {
   "cell_type": "code",
   "execution_count": null,
   "metadata": {},
   "outputs": [],
   "source": [
    "svr_regressor3.score(X1_test,y1_test)"
   ]
  },
  {
   "cell_type": "code",
   "execution_count": null,
   "metadata": {},
   "outputs": [],
   "source": [
    "from sklearn.model_selection import KFold\n",
    "kf=KFold(n_splits=5)\n",
    "kf"
   ]
  },
  {
   "cell_type": "code",
   "execution_count": null,
   "metadata": {},
   "outputs": [],
   "source": [
    "from sklearn.model_selection import KFold\n",
    "kf=KFold(n_splits=5)\n",
    "scores_knn=[]\n",
    "scores_svr=[]\n",
    "scores_lr=[]\n",
    "\n",
    "for train_index,test_index in kf.split(X):\n",
    "    X1_train,X1_test,y1_train,y1_test=X[train_index],X[test_index],y[train_index],y[test_index]\n",
    "    scores_knn.append(neigh.score(X1_test,y1_test))\n",
    "    scores_svr.append(svr_regressor.score(X1_test,y1_test))\n",
    "    scores_lr.append(LinearRegressor.score(X1_test,y1_test))\n"
   ]
  },
  {
   "cell_type": "code",
   "execution_count": null,
   "metadata": {},
   "outputs": [],
   "source": [
    "scores_knn,scores_lr,scores_svr"
   ]
  }
 ],
 "metadata": {
  "interpreter": {
   "hash": "4f77cdfaf4507c9d7563b1dafbbefd1211a5ec1bc40dd9ff43d298279ac97956"
  },
  "kernelspec": {
   "display_name": "Python 3 (ipykernel)",
   "language": "python",
   "name": "python3"
  },
  "language_info": {
   "codemirror_mode": {
    "name": "ipython",
    "version": 3
   },
   "file_extension": ".py",
   "mimetype": "text/x-python",
   "name": "python",
   "nbconvert_exporter": "python",
   "pygments_lexer": "ipython3",
   "version": "3.9.13"
  }
 },
 "nbformat": 4,
 "nbformat_minor": 4
}
