{
 "cells": [
  {
   "cell_type": "markdown",
   "metadata": {},
   "source": [
    "## VaR Monte Carlo with as many Tickers symbols as you want."
   ]
  },
  {
   "cell_type": "code",
   "execution_count": 111,
   "metadata": {},
   "outputs": [],
   "source": [
    "import pandas as pd\n",
    "import numpy as np\n",
    "import datetime as dt\n",
    "import yfinance as yf\n",
    "import matplotlib.pyplot as plt\n",
    "from scipy.stats import norm"
   ]
  },
  {
   "cell_type": "code",
   "execution_count": 112,
   "metadata": {},
   "outputs": [],
   "source": [
    "years=15\n",
    "\n",
    "endDate=dt.datetime.now()\n",
    "startDate=endDate-dt.timedelta(days=365*years)"
   ]
  },
  {
   "cell_type": "code",
   "execution_count": 113,
   "metadata": {},
   "outputs": [],
   "source": [
    "tickers=['TSLA','GOOGL','QQQ','VTI','AMD','AMZN'] ## Put as many as tickers as you want"
   ]
  },
  {
   "cell_type": "code",
   "execution_count": 114,
   "metadata": {},
   "outputs": [],
   "source": [
    "## Next get adjusted closing price\n",
    "\n",
    "adj_close_df=pd.DataFrame()"
   ]
  },
  {
   "cell_type": "code",
   "execution_count": 115,
   "metadata": {},
   "outputs": [
    {
     "name": "stdout",
     "output_type": "stream",
     "text": [
      "[*********************100%***********************]  1 of 1 completed\n",
      "[*********************100%***********************]  1 of 1 completed\n",
      "[*********************100%***********************]  1 of 1 completed\n",
      "[*********************100%***********************]  1 of 1 completed\n",
      "[*********************100%***********************]  1 of 1 completed\n",
      "[*********************100%***********************]  1 of 1 completed\n"
     ]
    }
   ],
   "source": [
    "for i in tickers:\n",
    "    data=yf.download(i,start=startDate,end=endDate)\n",
    "    adj_close_df[i]=data['Adj Close']"
   ]
  },
  {
   "cell_type": "code",
   "execution_count": 116,
   "metadata": {},
   "outputs": [],
   "source": [
    "## We will get the log returns because those are consistent in many aspect than just returns. Secondly, take the first difference as they are not stationary.\n",
    "log_returns=np.log(adj_close_df/adj_close_df.shift(1))\n"
   ]
  },
  {
   "cell_type": "code",
   "execution_count": 117,
   "metadata": {},
   "outputs": [],
   "source": [
    "## Removing the first row because after the difference one gets NaN\n",
    "log_returns=log_returns.dropna()"
   ]
  },
  {
   "cell_type": "code",
   "execution_count": 118,
   "metadata": {},
   "outputs": [
    {
     "data": {
      "text/html": [
       "<div>\n",
       "<style scoped>\n",
       "    .dataframe tbody tr th:only-of-type {\n",
       "        vertical-align: middle;\n",
       "    }\n",
       "\n",
       "    .dataframe tbody tr th {\n",
       "        vertical-align: top;\n",
       "    }\n",
       "\n",
       "    .dataframe thead th {\n",
       "        text-align: right;\n",
       "    }\n",
       "</style>\n",
       "<table border=\"1\" class=\"dataframe\">\n",
       "  <thead>\n",
       "    <tr style=\"text-align: right;\">\n",
       "      <th></th>\n",
       "      <th>TSLA</th>\n",
       "      <th>GOOGL</th>\n",
       "      <th>QQQ</th>\n",
       "      <th>VTI</th>\n",
       "      <th>AMD</th>\n",
       "      <th>AMZN</th>\n",
       "    </tr>\n",
       "    <tr>\n",
       "      <th>Date</th>\n",
       "      <th></th>\n",
       "      <th></th>\n",
       "      <th></th>\n",
       "      <th></th>\n",
       "      <th></th>\n",
       "      <th></th>\n",
       "    </tr>\n",
       "  </thead>\n",
       "  <tbody>\n",
       "    <tr>\n",
       "      <th>2010-06-30</th>\n",
       "      <td>-0.002515</td>\n",
       "      <td>-0.020708</td>\n",
       "      <td>-0.015335</td>\n",
       "      <td>-0.010974</td>\n",
       "      <td>-0.021622</td>\n",
       "      <td>0.005967</td>\n",
       "    </tr>\n",
       "    <tr>\n",
       "      <th>2010-07-01</th>\n",
       "      <td>-0.081723</td>\n",
       "      <td>-0.012347</td>\n",
       "      <td>-0.002813</td>\n",
       "      <td>-0.004386</td>\n",
       "      <td>0.009517</td>\n",
       "      <td>0.015439</td>\n",
       "    </tr>\n",
       "    <tr>\n",
       "      <th>2010-07-02</th>\n",
       "      <td>-0.134312</td>\n",
       "      <td>-0.006712</td>\n",
       "      <td>-0.002822</td>\n",
       "      <td>-0.004789</td>\n",
       "      <td>-0.030222</td>\n",
       "      <td>-0.016538</td>\n",
       "    </tr>\n",
       "    <tr>\n",
       "      <th>2010-07-06</th>\n",
       "      <td>-0.175470</td>\n",
       "      <td>-0.001100</td>\n",
       "      <td>0.003056</td>\n",
       "      <td>0.003067</td>\n",
       "      <td>-0.018298</td>\n",
       "      <td>0.008394</td>\n",
       "    </tr>\n",
       "    <tr>\n",
       "      <th>2010-07-07</th>\n",
       "      <td>-0.019431</td>\n",
       "      <td>0.031889</td>\n",
       "      <td>0.031426</td>\n",
       "      <td>0.032024</td>\n",
       "      <td>0.048520</td>\n",
       "      <td>0.030160</td>\n",
       "    </tr>\n",
       "    <tr>\n",
       "      <th>...</th>\n",
       "      <td>...</td>\n",
       "      <td>...</td>\n",
       "      <td>...</td>\n",
       "      <td>...</td>\n",
       "      <td>...</td>\n",
       "      <td>...</td>\n",
       "    </tr>\n",
       "    <tr>\n",
       "      <th>2023-09-25</th>\n",
       "      <td>0.008580</td>\n",
       "      <td>0.006581</td>\n",
       "      <td>0.004739</td>\n",
       "      <td>0.004017</td>\n",
       "      <td>0.012191</td>\n",
       "      <td>0.016514</td>\n",
       "    </tr>\n",
       "    <tr>\n",
       "      <th>2023-09-26</th>\n",
       "      <td>-0.011688</td>\n",
       "      <td>-0.019563</td>\n",
       "      <td>-0.015130</td>\n",
       "      <td>-0.014510</td>\n",
       "      <td>-0.014689</td>\n",
       "      <td>-0.041133</td>\n",
       "    </tr>\n",
       "    <tr>\n",
       "      <th>2023-09-27</th>\n",
       "      <td>-0.014940</td>\n",
       "      <td>0.015206</td>\n",
       "      <td>0.002341</td>\n",
       "      <td>0.001040</td>\n",
       "      <td>0.021750</td>\n",
       "      <td>0.000000</td>\n",
       "    </tr>\n",
       "    <tr>\n",
       "      <th>2023-09-28</th>\n",
       "      <td>0.024155</td>\n",
       "      <td>0.013468</td>\n",
       "      <td>0.008330</td>\n",
       "      <td>0.006594</td>\n",
       "      <td>0.046715</td>\n",
       "      <td>0.000000</td>\n",
       "    </tr>\n",
       "    <tr>\n",
       "      <th>2023-09-29</th>\n",
       "      <td>0.015465</td>\n",
       "      <td>-0.011020</td>\n",
       "      <td>0.000726</td>\n",
       "      <td>-0.002915</td>\n",
       "      <td>0.000584</td>\n",
       "      <td>0.009008</td>\n",
       "    </tr>\n",
       "  </tbody>\n",
       "</table>\n",
       "<p>3336 rows × 6 columns</p>\n",
       "</div>"
      ],
      "text/plain": [
       "                TSLA     GOOGL       QQQ       VTI       AMD      AMZN\n",
       "Date                                                                  \n",
       "2010-06-30 -0.002515 -0.020708 -0.015335 -0.010974 -0.021622  0.005967\n",
       "2010-07-01 -0.081723 -0.012347 -0.002813 -0.004386  0.009517  0.015439\n",
       "2010-07-02 -0.134312 -0.006712 -0.002822 -0.004789 -0.030222 -0.016538\n",
       "2010-07-06 -0.175470 -0.001100  0.003056  0.003067 -0.018298  0.008394\n",
       "2010-07-07 -0.019431  0.031889  0.031426  0.032024  0.048520  0.030160\n",
       "...              ...       ...       ...       ...       ...       ...\n",
       "2023-09-25  0.008580  0.006581  0.004739  0.004017  0.012191  0.016514\n",
       "2023-09-26 -0.011688 -0.019563 -0.015130 -0.014510 -0.014689 -0.041133\n",
       "2023-09-27 -0.014940  0.015206  0.002341  0.001040  0.021750  0.000000\n",
       "2023-09-28  0.024155  0.013468  0.008330  0.006594  0.046715  0.000000\n",
       "2023-09-29  0.015465 -0.011020  0.000726 -0.002915  0.000584  0.009008\n",
       "\n",
       "[3336 rows x 6 columns]"
      ]
     },
     "execution_count": 118,
     "metadata": {},
     "output_type": "execute_result"
    }
   ],
   "source": [
    "log_returns"
   ]
  },
  {
   "cell_type": "code",
   "execution_count": 119,
   "metadata": {},
   "outputs": [],
   "source": [
    "def expected_return(weights,log_returns):\n",
    "    return np.sum(log_returns.mean()*weights)"
   ]
  },
  {
   "cell_type": "code",
   "execution_count": 120,
   "metadata": {},
   "outputs": [],
   "source": [
    "def standard_deviation(weights,cov_matrix):\n",
    "    variance=weights.T@cov_matrix@weights\n",
    "    return np.sqrt(variance)\n"
   ]
  },
  {
   "cell_type": "code",
   "execution_count": 121,
   "metadata": {},
   "outputs": [
    {
     "data": {
      "text/html": [
       "<div>\n",
       "<style scoped>\n",
       "    .dataframe tbody tr th:only-of-type {\n",
       "        vertical-align: middle;\n",
       "    }\n",
       "\n",
       "    .dataframe tbody tr th {\n",
       "        vertical-align: top;\n",
       "    }\n",
       "\n",
       "    .dataframe thead th {\n",
       "        text-align: right;\n",
       "    }\n",
       "</style>\n",
       "<table border=\"1\" class=\"dataframe\">\n",
       "  <thead>\n",
       "    <tr style=\"text-align: right;\">\n",
       "      <th></th>\n",
       "      <th>TSLA</th>\n",
       "      <th>GOOGL</th>\n",
       "      <th>QQQ</th>\n",
       "      <th>VTI</th>\n",
       "      <th>AMD</th>\n",
       "      <th>AMZN</th>\n",
       "    </tr>\n",
       "  </thead>\n",
       "  <tbody>\n",
       "    <tr>\n",
       "      <th>TSLA</th>\n",
       "      <td>0.001285</td>\n",
       "      <td>0.000209</td>\n",
       "      <td>0.000235</td>\n",
       "      <td>0.000180</td>\n",
       "      <td>0.000399</td>\n",
       "      <td>0.000266</td>\n",
       "    </tr>\n",
       "    <tr>\n",
       "      <th>GOOGL</th>\n",
       "      <td>0.000209</td>\n",
       "      <td>0.000292</td>\n",
       "      <td>0.000174</td>\n",
       "      <td>0.000134</td>\n",
       "      <td>0.000219</td>\n",
       "      <td>0.000214</td>\n",
       "    </tr>\n",
       "    <tr>\n",
       "      <th>QQQ</th>\n",
       "      <td>0.000235</td>\n",
       "      <td>0.000174</td>\n",
       "      <td>0.000170</td>\n",
       "      <td>0.000135</td>\n",
       "      <td>0.000251</td>\n",
       "      <td>0.000193</td>\n",
       "    </tr>\n",
       "    <tr>\n",
       "      <th>VTI</th>\n",
       "      <td>0.000180</td>\n",
       "      <td>0.000134</td>\n",
       "      <td>0.000135</td>\n",
       "      <td>0.000125</td>\n",
       "      <td>0.000202</td>\n",
       "      <td>0.000138</td>\n",
       "    </tr>\n",
       "    <tr>\n",
       "      <th>AMD</th>\n",
       "      <td>0.000399</td>\n",
       "      <td>0.000219</td>\n",
       "      <td>0.000251</td>\n",
       "      <td>0.000202</td>\n",
       "      <td>0.001247</td>\n",
       "      <td>0.000274</td>\n",
       "    </tr>\n",
       "    <tr>\n",
       "      <th>AMZN</th>\n",
       "      <td>0.000266</td>\n",
       "      <td>0.000214</td>\n",
       "      <td>0.000193</td>\n",
       "      <td>0.000138</td>\n",
       "      <td>0.000274</td>\n",
       "      <td>0.000430</td>\n",
       "    </tr>\n",
       "  </tbody>\n",
       "</table>\n",
       "</div>"
      ],
      "text/plain": [
       "           TSLA     GOOGL       QQQ       VTI       AMD      AMZN\n",
       "TSLA   0.001285  0.000209  0.000235  0.000180  0.000399  0.000266\n",
       "GOOGL  0.000209  0.000292  0.000174  0.000134  0.000219  0.000214\n",
       "QQQ    0.000235  0.000174  0.000170  0.000135  0.000251  0.000193\n",
       "VTI    0.000180  0.000134  0.000135  0.000125  0.000202  0.000138\n",
       "AMD    0.000399  0.000219  0.000251  0.000202  0.001247  0.000274\n",
       "AMZN   0.000266  0.000214  0.000193  0.000138  0.000274  0.000430"
      ]
     },
     "execution_count": 121,
     "metadata": {},
     "output_type": "execute_result"
    }
   ],
   "source": [
    "cov_matrix=log_returns.cov()\n",
    "cov_matrix"
   ]
  },
  {
   "cell_type": "code",
   "execution_count": 122,
   "metadata": {},
   "outputs": [
    {
     "data": {
      "text/plain": [
       "array([0.16666667, 0.16666667, 0.16666667, 0.16666667, 0.16666667,\n",
       "       0.16666667])"
      ]
     },
     "execution_count": 122,
     "metadata": {},
     "output_type": "execute_result"
    }
   ],
   "source": [
    "## Create Equally weighted portfolio\n",
    "\n",
    "portfolio_value=1000000\n",
    "weights=np.array([1/len(tickers)]*len(tickers))\n",
    "weights"
   ]
  },
  {
   "cell_type": "code",
   "execution_count": 123,
   "metadata": {},
   "outputs": [],
   "source": [
    "portfolio_expected_return=expected_return(weights,log_returns)\n",
    "portfolio_standard_deviation=standard_deviation(weights,cov_matrix)"
   ]
  },
  {
   "cell_type": "code",
   "execution_count": 124,
   "metadata": {},
   "outputs": [
    {
     "data": {
      "text/plain": [
       "0.0166627391905645"
      ]
     },
     "execution_count": 124,
     "metadata": {},
     "output_type": "execute_result"
    }
   ],
   "source": [
    "portfolio_standard_deviation"
   ]
  },
  {
   "cell_type": "code",
   "execution_count": 125,
   "metadata": {},
   "outputs": [],
   "source": [
    "def rand_z_score():\n",
    "    return np.random.normal(0,1)"
   ]
  },
  {
   "cell_type": "code",
   "execution_count": 126,
   "metadata": {},
   "outputs": [],
   "source": [
    "days=20\n",
    "\n",
    "def scenario_loss(portfolio_value,portfolio_standard_deviation,z_score,days):\n",
    "    return portfolio_value*portfolio_expected_return*days+portfolio_value*portfolio_standard_deviation*z_score*np.sqrt(days)"
   ]
  },
  {
   "cell_type": "code",
   "execution_count": 127,
   "metadata": {},
   "outputs": [],
   "source": [
    "##Simulation\n",
    "\n",
    "n_iter=10000\n",
    "scenario_return=[]\n",
    "\n",
    "for i in range(n_iter):\n",
    "    z_score=rand_z_score()\n",
    "    scenario_return.append(scenario_loss(portfolio_value,portfolio_standard_deviation,z_score,days))"
   ]
  },
  {
   "cell_type": "code",
   "execution_count": 128,
   "metadata": {},
   "outputs": [],
   "source": [
    "conf_intv=0.95\n",
    "VaR=np.percentile(scenario_return,5)"
   ]
  },
  {
   "cell_type": "code",
   "execution_count": 129,
   "metadata": {},
   "outputs": [
    {
     "data": {
      "text/plain": [
       "-106272.09525042716"
      ]
     },
     "execution_count": 129,
     "metadata": {},
     "output_type": "execute_result"
    }
   ],
   "source": [
    "VaR"
   ]
  },
  {
   "cell_type": "code",
   "execution_count": 130,
   "metadata": {},
   "outputs": [
    {
     "data": {
      "text/plain": [
       "0.9999999999999999"
      ]
     },
     "execution_count": 130,
     "metadata": {},
     "output_type": "execute_result"
    }
   ],
   "source": [
    "weights=np.random.rand(len(tickers))\n",
    "weights=weights/np.sum(weights)\n",
    "sum(weights)"
   ]
  },
  {
   "cell_type": "code",
   "execution_count": 131,
   "metadata": {},
   "outputs": [],
   "source": [
    "portfolio_expected_return=expected_return(weights,log_returns)\n",
    "portfolio_standard_deviation=standard_deviation(weights,cov_matrix)\n",
    "days=20\n",
    "\n",
    "def scenario_loss(portfolio_value,portfolio_standard_deviation,z_score,days):\n",
    "    return portfolio_value*portfolio_expected_return*days+portfolio_value*portfolio_standard_deviation*z_score*np.sqrt(days)"
   ]
  },
  {
   "cell_type": "code",
   "execution_count": 132,
   "metadata": {},
   "outputs": [
    {
     "data": {
      "text/plain": [
       "(6,)"
      ]
     },
     "execution_count": 132,
     "metadata": {},
     "output_type": "execute_result"
    }
   ],
   "source": [
    "weights.shape"
   ]
  },
  {
   "cell_type": "code",
   "execution_count": 133,
   "metadata": {},
   "outputs": [],
   "source": [
    "##Simulation\n",
    "\n",
    "n_iter=10000\n",
    "scenario_return=[]\n",
    "\n",
    "for i in range(n_iter):\n",
    "    z_score=rand_z_score()\n",
    "    scenario_return.append(scenario_loss(portfolio_value,portfolio_standard_deviation,z_score,days))"
   ]
  },
  {
   "cell_type": "code",
   "execution_count": 134,
   "metadata": {},
   "outputs": [
    {
     "data": {
      "text/plain": [
       "-130322.34366072073"
      ]
     },
     "execution_count": 134,
     "metadata": {},
     "output_type": "execute_result"
    }
   ],
   "source": [
    "conf_intv=0.95\n",
    "VaR=np.percentile(scenario_return,5)\n",
    "VaR"
   ]
  },
  {
   "cell_type": "code",
   "execution_count": null,
   "metadata": {},
   "outputs": [],
   "source": []
  }
 ],
 "metadata": {
  "kernelspec": {
   "display_name": "base",
   "language": "python",
   "name": "python3"
  },
  "language_info": {
   "codemirror_mode": {
    "name": "ipython",
    "version": 3
   },
   "file_extension": ".py",
   "mimetype": "text/x-python",
   "name": "python",
   "nbconvert_exporter": "python",
   "pygments_lexer": "ipython3",
   "version": "3.9.15"
  },
  "orig_nbformat": 4
 },
 "nbformat": 4,
 "nbformat_minor": 2
}
